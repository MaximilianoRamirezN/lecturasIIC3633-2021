{
  "nbformat": 4,
  "nbformat_minor": 0,
  "metadata": {
    "colab": {
      "name": "GRU4Rec c/DT.ipynb",
      "provenance": [],
      "collapsed_sections": [],
      "include_colab_link": true
    },
    "kernelspec": {
      "name": "python3",
      "display_name": "Python 3"
    },
    "accelerator": "GPU"
  },
  "cells": [
    {
      "cell_type": "markdown",
      "metadata": {
        "id": "view-in-github",
        "colab_type": "text"
      },
      "source": [
        "<a href=\"https://colab.research.google.com/github/MaximilianoRamirezN/lecturasIIC3633-2021/blob/main/practicos/GRU4Rec.ipynb\" target=\"_parent\"><img src=\"https://colab.research.google.com/assets/colab-badge.svg\" alt=\"Open In Colab\"/></a>"
      ]
    },
    {
      "cell_type": "markdown",
      "metadata": {
        "id": "bcrDor7CR1SO"
      },
      "source": [
        "# Gated Recurrent Units for session-based next item prediction\n",
        "\n",
        "Patricio Cerda, Bastián Mavrakis, Denis Parra\n",
        "\n",
        "### Ambiente: Python3 + GPU\n",
        "\n",
        "## Descargar datos y repositorio"
      ]
    },
    {
      "cell_type": "code",
      "metadata": {
        "id": "nCAQDIrOPUQP",
        "colab": {
          "base_uri": "https://localhost:8080/"
        },
        "outputId": "e33f8aea-97b8-4c2e-b7bd-57dedc09f9e2"
      },
      "source": [
        "# Clone repo\n",
        "!git clone https://github.com/pcerdam/KerasGRU4Rec --single-branch src"
      ],
      "execution_count": 1,
      "outputs": [
        {
          "output_type": "stream",
          "name": "stdout",
          "text": [
            "Cloning into 'src'...\n",
            "remote: Enumerating objects: 215, done.\u001b[K\n",
            "remote: Counting objects: 100% (24/24), done.\u001b[K\n",
            "remote: Compressing objects: 100% (17/17), done.\u001b[K\n",
            "remote: Total 215 (delta 9), reused 10 (delta 5), pack-reused 191\u001b[K\n",
            "Receiving objects: 100% (215/215), 10.58 MiB | 16.27 MiB/s, done.\n",
            "Resolving deltas: 100% (91/91), done.\n"
          ]
        }
      ]
    },
    {
      "cell_type": "code",
      "metadata": {
        "id": "BpccDqjDPbjI",
        "colab": {
          "base_uri": "https://localhost:8080/"
        },
        "outputId": "e7c7f226-5d62-43b4-d993-22344c6fe637"
      },
      "source": [
        "# Download RecSys Challenge 2015 dataset\n",
        "!rm -r sample_data\n",
        "!curl https://s3-eu-west-1.amazonaws.com/yc-rdata/yoochoose-data.7z --output data.7z"
      ],
      "execution_count": 2,
      "outputs": [
        {
          "output_type": "stream",
          "name": "stdout",
          "text": [
            "  % Total    % Received % Xferd  Average Speed   Time    Time     Time  Current\n",
            "                                 Dload  Upload   Total   Spent    Left  Speed\n",
            "100  273M  100  273M    0     0  24.3M      0  0:00:11  0:00:11 --:--:-- 28.1M\n"
          ]
        }
      ]
    },
    {
      "cell_type": "code",
      "metadata": {
        "id": "AJkLaRyqPp-z",
        "colab": {
          "base_uri": "https://localhost:8080/"
        },
        "outputId": "491a5cd7-485b-4d60-ba68-6a67fe2f3e51"
      },
      "source": [
        "# Extract dataset\n",
        "!7z e data.7z -o./rsc15\n",
        "!rm data.7z\n",
        "!mkdir data"
      ],
      "execution_count": 3,
      "outputs": [
        {
          "output_type": "stream",
          "name": "stdout",
          "text": [
            "\n",
            "7-Zip [64] 16.02 : Copyright (c) 1999-2016 Igor Pavlov : 2016-05-21\n",
            "p7zip Version 16.02 (locale=en_US.UTF-8,Utf16=on,HugeFiles=on,64 bits,2 CPUs Intel(R) Xeon(R) CPU @ 2.30GHz (306F0),ASM,AES-NI)\n",
            "\n",
            "Scanning the drive for archives:\n",
            "  0M Scan\b\b\b\b\b\b\b\b\b         \b\b\b\b\b\b\b\b\b1 file, 287211932 bytes (274 MiB)\n",
            "\n",
            "Extracting archive: data.7z\n",
            "--\n",
            "Path = data.7z\n",
            "Type = 7z\n",
            "Physical Size = 287211932\n",
            "Headers Size = 255\n",
            "Method = LZMA:24\n",
            "Solid = +\n",
            "Blocks = 2\n",
            "\n",
            "  0%\b\b\b\b    \b\b\b\b  0% - yoochoose-buys.dat\b\b\b\b\b\b\b\b\b\b\b\b\b\b\b\b\b\b\b\b\b\b\b\b\b                         \b\b\b\b\b\b\b\b\b\b\b\b\b\b\b\b\b\b\b\b\b\b\b\b\b  1% - yoochoose-buys.dat\b\b\b\b\b\b\b\b\b\b\b\b\b\b\b\b\b\b\b\b\b\b\b\b\b                         \b\b\b\b\b\b\b\b\b\b\b\b\b\b\b\b\b\b\b\b\b\b\b\b\b  2% - yoochoose-buys.dat\b\b\b\b\b\b\b\b\b\b\b\b\b\b\b\b\b\b\b\b\b\b\b\b\b                         \b\b\b\b\b\b\b\b\b\b\b\b\b\b\b\b\b\b\b\b\b\b\b\b\b  3% 1 - yoochoose-clicks.dat\b\b\b\b\b\b\b\b\b\b\b\b\b\b\b\b\b\b\b\b\b\b\b\b\b\b\b\b\b                             \b\b\b\b\b\b\b\b\b\b\b\b\b\b\b\b\b\b\b\b\b\b\b\b\b\b\b\b\b  4% 1 - yoochoose-clicks.dat\b\b\b\b\b\b\b\b\b\b\b\b\b\b\b\b\b\b\b\b\b\b\b\b\b\b\b\b\b                             \b\b\b\b\b\b\b\b\b\b\b\b\b\b\b\b\b\b\b\b\b\b\b\b\b\b\b\b\b  5% 1 - yoochoose-clicks.dat\b\b\b\b\b\b\b\b\b\b\b\b\b\b\b\b\b\b\b\b\b\b\b\b\b\b\b\b\b                             \b\b\b\b\b\b\b\b\b\b\b\b\b\b\b\b\b\b\b\b\b\b\b\b\b\b\b\b\b  6% 1 - yoochoose-clicks.dat\b\b\b\b\b\b\b\b\b\b\b\b\b\b\b\b\b\b\b\b\b\b\b\b\b\b\b\b\b                             \b\b\b\b\b\b\b\b\b\b\b\b\b\b\b\b\b\b\b\b\b\b\b\b\b\b\b\b\b  7% 1 - yoochoose-clicks.dat\b\b\b\b\b\b\b\b\b\b\b\b\b\b\b\b\b\b\b\b\b\b\b\b\b\b\b\b\b                             \b\b\b\b\b\b\b\b\b\b\b\b\b\b\b\b\b\b\b\b\b\b\b\b\b\b\b\b\b  8% 1 - yoochoose-clicks.dat\b\b\b\b\b\b\b\b\b\b\b\b\b\b\b\b\b\b\b\b\b\b\b\b\b\b\b\b\b                             \b\b\b\b\b\b\b\b\b\b\b\b\b\b\b\b\b\b\b\b\b\b\b\b\b\b\b\b\b  9% 1 - yoochoose-clicks.dat\b\b\b\b\b\b\b\b\b\b\b\b\b\b\b\b\b\b\b\b\b\b\b\b\b\b\b\b\b                             \b\b\b\b\b\b\b\b\b\b\b\b\b\b\b\b\b\b\b\b\b\b\b\b\b\b\b\b\b 10% 1 - yoochoose-clicks.dat\b\b\b\b\b\b\b\b\b\b\b\b\b\b\b\b\b\b\b\b\b\b\b\b\b\b\b\b\b                             \b\b\b\b\b\b\b\b\b\b\b\b\b\b\b\b\b\b\b\b\b\b\b\b\b\b\b\b\b 11% 1 - yoochoose-clicks.dat\b\b\b\b\b\b\b\b\b\b\b\b\b\b\b\b\b\b\b\b\b\b\b\b\b\b\b\b\b                             \b\b\b\b\b\b\b\b\b\b\b\b\b\b\b\b\b\b\b\b\b\b\b\b\b\b\b\b\b 12% 1 - yoochoose-clicks.dat\b\b\b\b\b\b\b\b\b\b\b\b\b\b\b\b\b\b\b\b\b\b\b\b\b\b\b\b\b                             \b\b\b\b\b\b\b\b\b\b\b\b\b\b\b\b\b\b\b\b\b\b\b\b\b\b\b\b\b 13% 1 - yoochoose-clicks.dat\b\b\b\b\b\b\b\b\b\b\b\b\b\b\b\b\b\b\b\b\b\b\b\b\b\b\b\b\b                             \b\b\b\b\b\b\b\b\b\b\b\b\b\b\b\b\b\b\b\b\b\b\b\b\b\b\b\b\b 14% 1 - yoochoose-clicks.dat\b\b\b\b\b\b\b\b\b\b\b\b\b\b\b\b\b\b\b\b\b\b\b\b\b\b\b\b\b                             \b\b\b\b\b\b\b\b\b\b\b\b\b\b\b\b\b\b\b\b\b\b\b\b\b\b\b\b\b 15% 1 - yoochoose-clicks.dat\b\b\b\b\b\b\b\b\b\b\b\b\b\b\b\b\b\b\b\b\b\b\b\b\b\b\b\b\b                             \b\b\b\b\b\b\b\b\b\b\b\b\b\b\b\b\b\b\b\b\b\b\b\b\b\b\b\b\b 16% 1 - yoochoose-clicks.dat\b\b\b\b\b\b\b\b\b\b\b\b\b\b\b\b\b\b\b\b\b\b\b\b\b\b\b\b\b                             \b\b\b\b\b\b\b\b\b\b\b\b\b\b\b\b\b\b\b\b\b\b\b\b\b\b\b\b\b 17% 1 - yoochoose-clicks.dat\b\b\b\b\b\b\b\b\b\b\b\b\b\b\b\b\b\b\b\b\b\b\b\b\b\b\b\b\b                             \b\b\b\b\b\b\b\b\b\b\b\b\b\b\b\b\b\b\b\b\b\b\b\b\b\b\b\b\b 18% 1 - yoochoose-clicks.dat\b\b\b\b\b\b\b\b\b\b\b\b\b\b\b\b\b\b\b\b\b\b\b\b\b\b\b\b\b                             \b\b\b\b\b\b\b\b\b\b\b\b\b\b\b\b\b\b\b\b\b\b\b\b\b\b\b\b\b 19% 1 - yoochoose-clicks.dat\b\b\b\b\b\b\b\b\b\b\b\b\b\b\b\b\b\b\b\b\b\b\b\b\b\b\b\b\b                             \b\b\b\b\b\b\b\b\b\b\b\b\b\b\b\b\b\b\b\b\b\b\b\b\b\b\b\b\b 20% 1 - yoochoose-clicks.dat\b\b\b\b\b\b\b\b\b\b\b\b\b\b\b\b\b\b\b\b\b\b\b\b\b\b\b\b\b                             \b\b\b\b\b\b\b\b\b\b\b\b\b\b\b\b\b\b\b\b\b\b\b\b\b\b\b\b\b 21% 1 - yoochoose-clicks.dat\b\b\b\b\b\b\b\b\b\b\b\b\b\b\b\b\b\b\b\b\b\b\b\b\b\b\b\b\b                             \b\b\b\b\b\b\b\b\b\b\b\b\b\b\b\b\b\b\b\b\b\b\b\b\b\b\b\b\b 22% 1 - yoochoose-clicks.dat\b\b\b\b\b\b\b\b\b\b\b\b\b\b\b\b\b\b\b\b\b\b\b\b\b\b\b\b\b                             \b\b\b\b\b\b\b\b\b\b\b\b\b\b\b\b\b\b\b\b\b\b\b\b\b\b\b\b\b 23% 1 - yoochoose-clicks.dat\b\b\b\b\b\b\b\b\b\b\b\b\b\b\b\b\b\b\b\b\b\b\b\b\b\b\b\b\b                             \b\b\b\b\b\b\b\b\b\b\b\b\b\b\b\b\b\b\b\b\b\b\b\b\b\b\b\b\b 24% 1 - yoochoose-clicks.dat\b\b\b\b\b\b\b\b\b\b\b\b\b\b\b\b\b\b\b\b\b\b\b\b\b\b\b\b\b                             \b\b\b\b\b\b\b\b\b\b\b\b\b\b\b\b\b\b\b\b\b\b\b\b\b\b\b\b\b 25% 1 - yoochoose-clicks.dat\b\b\b\b\b\b\b\b\b\b\b\b\b\b\b\b\b\b\b\b\b\b\b\b\b\b\b\b\b                             \b\b\b\b\b\b\b\b\b\b\b\b\b\b\b\b\b\b\b\b\b\b\b\b\b\b\b\b\b 26% 1 - yoochoose-clicks.dat\b\b\b\b\b\b\b\b\b\b\b\b\b\b\b\b\b\b\b\b\b\b\b\b\b\b\b\b\b                             \b\b\b\b\b\b\b\b\b\b\b\b\b\b\b\b\b\b\b\b\b\b\b\b\b\b\b\b\b 27% 1 - yoochoose-clicks.dat\b\b\b\b\b\b\b\b\b\b\b\b\b\b\b\b\b\b\b\b\b\b\b\b\b\b\b\b\b                             \b\b\b\b\b\b\b\b\b\b\b\b\b\b\b\b\b\b\b\b\b\b\b\b\b\b\b\b\b 28% 1 - yoochoose-clicks.dat\b\b\b\b\b\b\b\b\b\b\b\b\b\b\b\b\b\b\b\b\b\b\b\b\b\b\b\b\b                             \b\b\b\b\b\b\b\b\b\b\b\b\b\b\b\b\b\b\b\b\b\b\b\b\b\b\b\b\b 29% 1 - yoochoose-clicks.dat\b\b\b\b\b\b\b\b\b\b\b\b\b\b\b\b\b\b\b\b\b\b\b\b\b\b\b\b\b                             \b\b\b\b\b\b\b\b\b\b\b\b\b\b\b\b\b\b\b\b\b\b\b\b\b\b\b\b\b 30% 1 - yoochoose-clicks.dat\b\b\b\b\b\b\b\b\b\b\b\b\b\b\b\b\b\b\b\b\b\b\b\b\b\b\b\b\b                             \b\b\b\b\b\b\b\b\b\b\b\b\b\b\b\b\b\b\b\b\b\b\b\b\b\b\b\b\b 31% 1 - yoochoose-clicks.dat\b\b\b\b\b\b\b\b\b\b\b\b\b\b\b\b\b\b\b\b\b\b\b\b\b\b\b\b\b                             \b\b\b\b\b\b\b\b\b\b\b\b\b\b\b\b\b\b\b\b\b\b\b\b\b\b\b\b\b 32% 1 - yoochoose-clicks.dat\b\b\b\b\b\b\b\b\b\b\b\b\b\b\b\b\b\b\b\b\b\b\b\b\b\b\b\b\b                             \b\b\b\b\b\b\b\b\b\b\b\b\b\b\b\b\b\b\b\b\b\b\b\b\b\b\b\b\b 33% 1 - yoochoose-clicks.dat\b\b\b\b\b\b\b\b\b\b\b\b\b\b\b\b\b\b\b\b\b\b\b\b\b\b\b\b\b                             \b\b\b\b\b\b\b\b\b\b\b\b\b\b\b\b\b\b\b\b\b\b\b\b\b\b\b\b\b 34% 1 - yoochoose-clicks.dat\b\b\b\b\b\b\b\b\b\b\b\b\b\b\b\b\b\b\b\b\b\b\b\b\b\b\b\b\b                             \b\b\b\b\b\b\b\b\b\b\b\b\b\b\b\b\b\b\b\b\b\b\b\b\b\b\b\b\b 35% 1 - yoochoose-clicks.dat\b\b\b\b\b\b\b\b\b\b\b\b\b\b\b\b\b\b\b\b\b\b\b\b\b\b\b\b\b                             \b\b\b\b\b\b\b\b\b\b\b\b\b\b\b\b\b\b\b\b\b\b\b\b\b\b\b\b\b 36% 1 - yoochoose-clicks.dat\b\b\b\b\b\b\b\b\b\b\b\b\b\b\b\b\b\b\b\b\b\b\b\b\b\b\b\b\b                             \b\b\b\b\b\b\b\b\b\b\b\b\b\b\b\b\b\b\b\b\b\b\b\b\b\b\b\b\b 37% 1 - yoochoose-clicks.dat\b\b\b\b\b\b\b\b\b\b\b\b\b\b\b\b\b\b\b\b\b\b\b\b\b\b\b\b\b                             \b\b\b\b\b\b\b\b\b\b\b\b\b\b\b\b\b\b\b\b\b\b\b\b\b\b\b\b\b 38% 1 - yoochoose-clicks.dat\b\b\b\b\b\b\b\b\b\b\b\b\b\b\b\b\b\b\b\b\b\b\b\b\b\b\b\b\b                             \b\b\b\b\b\b\b\b\b\b\b\b\b\b\b\b\b\b\b\b\b\b\b\b\b\b\b\b\b 39% 1 - yoochoose-clicks.dat\b\b\b\b\b\b\b\b\b\b\b\b\b\b\b\b\b\b\b\b\b\b\b\b\b\b\b\b\b                             \b\b\b\b\b\b\b\b\b\b\b\b\b\b\b\b\b\b\b\b\b\b\b\b\b\b\b\b\b 40% 1 - yoochoose-clicks.dat\b\b\b\b\b\b\b\b\b\b\b\b\b\b\b\b\b\b\b\b\b\b\b\b\b\b\b\b\b                             \b\b\b\b\b\b\b\b\b\b\b\b\b\b\b\b\b\b\b\b\b\b\b\b\b\b\b\b\b 41% 1 - yoochoose-clicks.dat\b\b\b\b\b\b\b\b\b\b\b\b\b\b\b\b\b\b\b\b\b\b\b\b\b\b\b\b\b                             \b\b\b\b\b\b\b\b\b\b\b\b\b\b\b\b\b\b\b\b\b\b\b\b\b\b\b\b\b 42% 1 - yoochoose-clicks.dat\b\b\b\b\b\b\b\b\b\b\b\b\b\b\b\b\b\b\b\b\b\b\b\b\b\b\b\b\b                             \b\b\b\b\b\b\b\b\b\b\b\b\b\b\b\b\b\b\b\b\b\b\b\b\b\b\b\b\b 43% 1 - yoochoose-clicks.dat\b\b\b\b\b\b\b\b\b\b\b\b\b\b\b\b\b\b\b\b\b\b\b\b\b\b\b\b\b                             \b\b\b\b\b\b\b\b\b\b\b\b\b\b\b\b\b\b\b\b\b\b\b\b\b\b\b\b\b 44% 1 - yoochoose-clicks.dat\b\b\b\b\b\b\b\b\b\b\b\b\b\b\b\b\b\b\b\b\b\b\b\b\b\b\b\b\b                             \b\b\b\b\b\b\b\b\b\b\b\b\b\b\b\b\b\b\b\b\b\b\b\b\b\b\b\b\b 45% 1 - yoochoose-clicks.dat\b\b\b\b\b\b\b\b\b\b\b\b\b\b\b\b\b\b\b\b\b\b\b\b\b\b\b\b\b                             \b\b\b\b\b\b\b\b\b\b\b\b\b\b\b\b\b\b\b\b\b\b\b\b\b\b\b\b\b 46% 1 - yoochoose-clicks.dat\b\b\b\b\b\b\b\b\b\b\b\b\b\b\b\b\b\b\b\b\b\b\b\b\b\b\b\b\b                             \b\b\b\b\b\b\b\b\b\b\b\b\b\b\b\b\b\b\b\b\b\b\b\b\b\b\b\b\b 47% 1 - yoochoose-clicks.dat\b\b\b\b\b\b\b\b\b\b\b\b\b\b\b\b\b\b\b\b\b\b\b\b\b\b\b\b\b                             \b\b\b\b\b\b\b\b\b\b\b\b\b\b\b\b\b\b\b\b\b\b\b\b\b\b\b\b\b 48% 1 - yoochoose-clicks.dat\b\b\b\b\b\b\b\b\b\b\b\b\b\b\b\b\b\b\b\b\b\b\b\b\b\b\b\b\b                             \b\b\b\b\b\b\b\b\b\b\b\b\b\b\b\b\b\b\b\b\b\b\b\b\b\b\b\b\b 49% 1 - yoochoose-clicks.dat\b\b\b\b\b\b\b\b\b\b\b\b\b\b\b\b\b\b\b\b\b\b\b\b\b\b\b\b\b                             \b\b\b\b\b\b\b\b\b\b\b\b\b\b\b\b\b\b\b\b\b\b\b\b\b\b\b\b\b 50% 1 - yoochoose-clicks.dat\b\b\b\b\b\b\b\b\b\b\b\b\b\b\b\b\b\b\b\b\b\b\b\b\b\b\b\b\b                             \b\b\b\b\b\b\b\b\b\b\b\b\b\b\b\b\b\b\b\b\b\b\b\b\b\b\b\b\b 51% 1 - yoochoose-clicks.dat\b\b\b\b\b\b\b\b\b\b\b\b\b\b\b\b\b\b\b\b\b\b\b\b\b\b\b\b\b                             \b\b\b\b\b\b\b\b\b\b\b\b\b\b\b\b\b\b\b\b\b\b\b\b\b\b\b\b\b 52% 1 - yoochoose-clicks.dat\b\b\b\b\b\b\b\b\b\b\b\b\b\b\b\b\b\b\b\b\b\b\b\b\b\b\b\b\b                             \b\b\b\b\b\b\b\b\b\b\b\b\b\b\b\b\b\b\b\b\b\b\b\b\b\b\b\b\b 53% 1 - yoochoose-clicks.dat\b\b\b\b\b\b\b\b\b\b\b\b\b\b\b\b\b\b\b\b\b\b\b\b\b\b\b\b\b                             \b\b\b\b\b\b\b\b\b\b\b\b\b\b\b\b\b\b\b\b\b\b\b\b\b\b\b\b\b 54% 1 - yoochoose-clicks.dat\b\b\b\b\b\b\b\b\b\b\b\b\b\b\b\b\b\b\b\b\b\b\b\b\b\b\b\b\b                             \b\b\b\b\b\b\b\b\b\b\b\b\b\b\b\b\b\b\b\b\b\b\b\b\b\b\b\b\b 55% 1 - yoochoose-clicks.dat\b\b\b\b\b\b\b\b\b\b\b\b\b\b\b\b\b\b\b\b\b\b\b\b\b\b\b\b\b                             \b\b\b\b\b\b\b\b\b\b\b\b\b\b\b\b\b\b\b\b\b\b\b\b\b\b\b\b\b 56% 1 - yoochoose-clicks.dat\b\b\b\b\b\b\b\b\b\b\b\b\b\b\b\b\b\b\b\b\b\b\b\b\b\b\b\b\b                             \b\b\b\b\b\b\b\b\b\b\b\b\b\b\b\b\b\b\b\b\b\b\b\b\b\b\b\b\b 57% 1 - yoochoose-clicks.dat\b\b\b\b\b\b\b\b\b\b\b\b\b\b\b\b\b\b\b\b\b\b\b\b\b\b\b\b\b                             \b\b\b\b\b\b\b\b\b\b\b\b\b\b\b\b\b\b\b\b\b\b\b\b\b\b\b\b\b 58% 1 - yoochoose-clicks.dat\b\b\b\b\b\b\b\b\b\b\b\b\b\b\b\b\b\b\b\b\b\b\b\b\b\b\b\b\b                             \b\b\b\b\b\b\b\b\b\b\b\b\b\b\b\b\b\b\b\b\b\b\b\b\b\b\b\b\b 59% 1 - yoochoose-clicks.dat\b\b\b\b\b\b\b\b\b\b\b\b\b\b\b\b\b\b\b\b\b\b\b\b\b\b\b\b\b                             \b\b\b\b\b\b\b\b\b\b\b\b\b\b\b\b\b\b\b\b\b\b\b\b\b\b\b\b\b 60% 1 - yoochoose-clicks.dat\b\b\b\b\b\b\b\b\b\b\b\b\b\b\b\b\b\b\b\b\b\b\b\b\b\b\b\b\b                             \b\b\b\b\b\b\b\b\b\b\b\b\b\b\b\b\b\b\b\b\b\b\b\b\b\b\b\b\b 61% 1 - yoochoose-clicks.dat\b\b\b\b\b\b\b\b\b\b\b\b\b\b\b\b\b\b\b\b\b\b\b\b\b\b\b\b\b                             \b\b\b\b\b\b\b\b\b\b\b\b\b\b\b\b\b\b\b\b\b\b\b\b\b\b\b\b\b 62% 1 - yoochoose-clicks.dat\b\b\b\b\b\b\b\b\b\b\b\b\b\b\b\b\b\b\b\b\b\b\b\b\b\b\b\b\b                             \b\b\b\b\b\b\b\b\b\b\b\b\b\b\b\b\b\b\b\b\b\b\b\b\b\b\b\b\b 63% 1 - yoochoose-clicks.dat\b\b\b\b\b\b\b\b\b\b\b\b\b\b\b\b\b\b\b\b\b\b\b\b\b\b\b\b\b                             \b\b\b\b\b\b\b\b\b\b\b\b\b\b\b\b\b\b\b\b\b\b\b\b\b\b\b\b\b 64% 1 - yoochoose-clicks.dat\b\b\b\b\b\b\b\b\b\b\b\b\b\b\b\b\b\b\b\b\b\b\b\b\b\b\b\b\b                             \b\b\b\b\b\b\b\b\b\b\b\b\b\b\b\b\b\b\b\b\b\b\b\b\b\b\b\b\b 65% 1 - yoochoose-clicks.dat\b\b\b\b\b\b\b\b\b\b\b\b\b\b\b\b\b\b\b\b\b\b\b\b\b\b\b\b\b                             \b\b\b\b\b\b\b\b\b\b\b\b\b\b\b\b\b\b\b\b\b\b\b\b\b\b\b\b\b 66% 1 - yoochoose-clicks.dat\b\b\b\b\b\b\b\b\b\b\b\b\b\b\b\b\b\b\b\b\b\b\b\b\b\b\b\b\b                             \b\b\b\b\b\b\b\b\b\b\b\b\b\b\b\b\b\b\b\b\b\b\b\b\b\b\b\b\b 67% 1 - yoochoose-clicks.dat\b\b\b\b\b\b\b\b\b\b\b\b\b\b\b\b\b\b\b\b\b\b\b\b\b\b\b\b\b                             \b\b\b\b\b\b\b\b\b\b\b\b\b\b\b\b\b\b\b\b\b\b\b\b\b\b\b\b\b 68% 1 - yoochoose-clicks.dat\b\b\b\b\b\b\b\b\b\b\b\b\b\b\b\b\b\b\b\b\b\b\b\b\b\b\b\b\b                             \b\b\b\b\b\b\b\b\b\b\b\b\b\b\b\b\b\b\b\b\b\b\b\b\b\b\b\b\b 69% 1 - yoochoose-clicks.dat\b\b\b\b\b\b\b\b\b\b\b\b\b\b\b\b\b\b\b\b\b\b\b\b\b\b\b\b\b                             \b\b\b\b\b\b\b\b\b\b\b\b\b\b\b\b\b\b\b\b\b\b\b\b\b\b\b\b\b 70% 1 - yoochoose-clicks.dat\b\b\b\b\b\b\b\b\b\b\b\b\b\b\b\b\b\b\b\b\b\b\b\b\b\b\b\b\b                             \b\b\b\b\b\b\b\b\b\b\b\b\b\b\b\b\b\b\b\b\b\b\b\b\b\b\b\b\b 71% 1 - yoochoose-clicks.dat\b\b\b\b\b\b\b\b\b\b\b\b\b\b\b\b\b\b\b\b\b\b\b\b\b\b\b\b\b                             \b\b\b\b\b\b\b\b\b\b\b\b\b\b\b\b\b\b\b\b\b\b\b\b\b\b\b\b\b 72% 1 - yoochoose-clicks.dat\b\b\b\b\b\b\b\b\b\b\b\b\b\b\b\b\b\b\b\b\b\b\b\b\b\b\b\b\b                             \b\b\b\b\b\b\b\b\b\b\b\b\b\b\b\b\b\b\b\b\b\b\b\b\b\b\b\b\b 73% 1 - yoochoose-clicks.dat\b\b\b\b\b\b\b\b\b\b\b\b\b\b\b\b\b\b\b\b\b\b\b\b\b\b\b\b\b                             \b\b\b\b\b\b\b\b\b\b\b\b\b\b\b\b\b\b\b\b\b\b\b\b\b\b\b\b\b 74% 1 - yoochoose-clicks.dat\b\b\b\b\b\b\b\b\b\b\b\b\b\b\b\b\b\b\b\b\b\b\b\b\b\b\b\b\b                             \b\b\b\b\b\b\b\b\b\b\b\b\b\b\b\b\b\b\b\b\b\b\b\b\b\b\b\b\b 75% 1 - yoochoose-clicks.dat\b\b\b\b\b\b\b\b\b\b\b\b\b\b\b\b\b\b\b\b\b\b\b\b\b\b\b\b\b                             \b\b\b\b\b\b\b\b\b\b\b\b\b\b\b\b\b\b\b\b\b\b\b\b\b\b\b\b\b 76% 1 - yoochoose-clicks.dat\b\b\b\b\b\b\b\b\b\b\b\b\b\b\b\b\b\b\b\b\b\b\b\b\b\b\b\b\b                             \b\b\b\b\b\b\b\b\b\b\b\b\b\b\b\b\b\b\b\b\b\b\b\b\b\b\b\b\b 77% 1 - yoochoose-clicks.dat\b\b\b\b\b\b\b\b\b\b\b\b\b\b\b\b\b\b\b\b\b\b\b\b\b\b\b\b\b                             \b\b\b\b\b\b\b\b\b\b\b\b\b\b\b\b\b\b\b\b\b\b\b\b\b\b\b\b\b 78% 1 - yoochoose-clicks.dat\b\b\b\b\b\b\b\b\b\b\b\b\b\b\b\b\b\b\b\b\b\b\b\b\b\b\b\b\b                             \b\b\b\b\b\b\b\b\b\b\b\b\b\b\b\b\b\b\b\b\b\b\b\b\b\b\b\b\b 79% 1 - yoochoose-clicks.dat\b\b\b\b\b\b\b\b\b\b\b\b\b\b\b\b\b\b\b\b\b\b\b\b\b\b\b\b\b                             \b\b\b\b\b\b\b\b\b\b\b\b\b\b\b\b\b\b\b\b\b\b\b\b\b\b\b\b\b 80% 1 - yoochoose-clicks.dat\b\b\b\b\b\b\b\b\b\b\b\b\b\b\b\b\b\b\b\b\b\b\b\b\b\b\b\b\b                             \b\b\b\b\b\b\b\b\b\b\b\b\b\b\b\b\b\b\b\b\b\b\b\b\b\b\b\b\b 81% 2 - yoochoose-test.dat\b\b\b\b\b\b\b\b\b\b\b\b\b\b\b\b\b\b\b\b\b\b\b\b\b\b\b                           \b\b\b\b\b\b\b\b\b\b\b\b\b\b\b\b\b\b\b\b\b\b\b\b\b\b\b 82% 2 - yoochoose-test.dat\b\b\b\b\b\b\b\b\b\b\b\b\b\b\b\b\b\b\b\b\b\b\b\b\b\b\b                           \b\b\b\b\b\b\b\b\b\b\b\b\b\b\b\b\b\b\b\b\b\b\b\b\b\b\b 83% 2 - yoochoose-test.dat\b\b\b\b\b\b\b\b\b\b\b\b\b\b\b\b\b\b\b\b\b\b\b\b\b\b\b                           \b\b\b\b\b\b\b\b\b\b\b\b\b\b\b\b\b\b\b\b\b\b\b\b\b\b\b 84% 2 - yoochoose-test.dat\b\b\b\b\b\b\b\b\b\b\b\b\b\b\b\b\b\b\b\b\b\b\b\b\b\b\b                           \b\b\b\b\b\b\b\b\b\b\b\b\b\b\b\b\b\b\b\b\b\b\b\b\b\b\b 85% 2 - yoochoose-test.dat\b\b\b\b\b\b\b\b\b\b\b\b\b\b\b\b\b\b\b\b\b\b\b\b\b\b\b                           \b\b\b\b\b\b\b\b\b\b\b\b\b\b\b\b\b\b\b\b\b\b\b\b\b\b\b 86% 2 - yoochoose-test.dat\b\b\b\b\b\b\b\b\b\b\b\b\b\b\b\b\b\b\b\b\b\b\b\b\b\b\b                           \b\b\b\b\b\b\b\b\b\b\b\b\b\b\b\b\b\b\b\b\b\b\b\b\b\b\b 87% 2 - yoochoose-test.dat\b\b\b\b\b\b\b\b\b\b\b\b\b\b\b\b\b\b\b\b\b\b\b\b\b\b\b                           \b\b\b\b\b\b\b\b\b\b\b\b\b\b\b\b\b\b\b\b\b\b\b\b\b\b\b 88% 2 - yoochoose-test.dat\b\b\b\b\b\b\b\b\b\b\b\b\b\b\b\b\b\b\b\b\b\b\b\b\b\b\b                           \b\b\b\b\b\b\b\b\b\b\b\b\b\b\b\b\b\b\b\b\b\b\b\b\b\b\b 89% 2 - yoochoose-test.dat\b\b\b\b\b\b\b\b\b\b\b\b\b\b\b\b\b\b\b\b\b\b\b\b\b\b\b                           \b\b\b\b\b\b\b\b\b\b\b\b\b\b\b\b\b\b\b\b\b\b\b\b\b\b\b 90% 2 - yoochoose-test.dat\b\b\b\b\b\b\b\b\b\b\b\b\b\b\b\b\b\b\b\b\b\b\b\b\b\b\b                           \b\b\b\b\b\b\b\b\b\b\b\b\b\b\b\b\b\b\b\b\b\b\b\b\b\b\b 91% 2 - yoochoose-test.dat\b\b\b\b\b\b\b\b\b\b\b\b\b\b\b\b\b\b\b\b\b\b\b\b\b\b\b                           \b\b\b\b\b\b\b\b\b\b\b\b\b\b\b\b\b\b\b\b\b\b\b\b\b\b\b 92% 2 - yoochoose-test.dat\b\b\b\b\b\b\b\b\b\b\b\b\b\b\b\b\b\b\b\b\b\b\b\b\b\b\b                           \b\b\b\b\b\b\b\b\b\b\b\b\b\b\b\b\b\b\b\b\b\b\b\b\b\b\b 93% 2 - yoochoose-test.dat\b\b\b\b\b\b\b\b\b\b\b\b\b\b\b\b\b\b\b\b\b\b\b\b\b\b\b                           \b\b\b\b\b\b\b\b\b\b\b\b\b\b\b\b\b\b\b\b\b\b\b\b\b\b\b 94% 2 - yoochoose-test.dat\b\b\b\b\b\b\b\b\b\b\b\b\b\b\b\b\b\b\b\b\b\b\b\b\b\b\b                           \b\b\b\b\b\b\b\b\b\b\b\b\b\b\b\b\b\b\b\b\b\b\b\b\b\b\b 95% 2 - yoochoose-test.dat\b\b\b\b\b\b\b\b\b\b\b\b\b\b\b\b\b\b\b\b\b\b\b\b\b\b\b                           \b\b\b\b\b\b\b\b\b\b\b\b\b\b\b\b\b\b\b\b\b\b\b\b\b\b\b 96% 2 - yoochoose-test.dat\b\b\b\b\b\b\b\b\b\b\b\b\b\b\b\b\b\b\b\b\b\b\b\b\b\b\b                           \b\b\b\b\b\b\b\b\b\b\b\b\b\b\b\b\b\b\b\b\b\b\b\b\b\b\b 97% 2 - yoochoose-test.dat\b\b\b\b\b\b\b\b\b\b\b\b\b\b\b\b\b\b\b\b\b\b\b\b\b\b\b                           \b\b\b\b\b\b\b\b\b\b\b\b\b\b\b\b\b\b\b\b\b\b\b\b\b\b\b 98% 2 - yoochoose-test.dat\b\b\b\b\b\b\b\b\b\b\b\b\b\b\b\b\b\b\b\b\b\b\b\b\b\b\b                           \b\b\b\b\b\b\b\b\b\b\b\b\b\b\b\b\b\b\b\b\b\b\b\b\b\b\b 99% 2 - yoochoose-test.dat\b\b\b\b\b\b\b\b\b\b\b\b\b\b\b\b\b\b\b\b\b\b\b\b\b\b\b                           \b\b\b\b\b\b\b\b\b\b\b\b\b\b\b\b\b\b\b\b\b\b\b\b\b\b\b 99% 3\b\b\b\b\b\b      \b\b\b\b\b\bEverything is Ok\n",
            "\n",
            "Files: 4\n",
            "Size:       1914111754\n",
            "Compressed: 287211932\n"
          ]
        }
      ]
    },
    {
      "cell_type": "markdown",
      "metadata": {
        "id": "gpjJOcqDR945"
      },
      "source": [
        "# Preprocesar dataset"
      ]
    },
    {
      "cell_type": "code",
      "metadata": {
        "id": "7E3mSmYQR9k-"
      },
      "source": [
        "import os\n",
        "import numpy as np\n",
        "import pandas as pd\n",
        "import datetime as dt\n",
        "from matplotlib import pyplot as plt\n",
        "os.environ['TF_CPP_MIN_LOG_LEVEL'] = '3'"
      ],
      "execution_count": 4,
      "outputs": []
    },
    {
      "cell_type": "code",
      "metadata": {
        "id": "WwNyFUAHRssj"
      },
      "source": [
        "src_path = './rsc15/'\n",
        "dst_path   = './data/'"
      ],
      "execution_count": 5,
      "outputs": []
    },
    {
      "cell_type": "code",
      "metadata": {
        "id": "om43PXTNSoLu"
      },
      "source": [
        "def process(src_path, dst_path):\n",
        "  data = pd.read_csv(src_path + 'yoochoose-clicks.dat', sep=',', header=None, usecols=[0,1,2], dtype={0:np.int32, 1:str, 2:np.int64})\n",
        "  data.columns = ['SessionId', 'TimeStr', 'ItemId']\n",
        "\n",
        "  # Add timestamp\n",
        "  data['Time'] = data.TimeStr.apply(lambda x: dt.datetime.strptime(x, '%Y-%m-%dT%H:%M:%S.%fZ').timestamp())\n",
        "  del(data['TimeStr'])\n",
        "\n",
        "  # Filter by session size > 1\n",
        "  session_lengths = data.groupby('SessionId').size()  \n",
        "  data = data[np.in1d(data.SessionId, session_lengths[session_lengths>1].index)]\n",
        "  \n",
        "  # Filter by \"known\" (appears >= 5) items\n",
        "  item_supports = data.groupby('ItemId').size()\n",
        "  data = data[np.in1d(data.ItemId, item_supports[item_supports>=5].index)]\n",
        "  \n",
        "  # Filter by session size > 2\n",
        "  session_lengths = data.groupby('SessionId').size()\n",
        "  data = data[np.in1d(data.SessionId, session_lengths[session_lengths>=2].index)]\n",
        "\n",
        "  # Test split is entire last day\n",
        "  tmax = data.Time.max()\n",
        "  session_max_times = data.groupby('SessionId').Time.max()\n",
        "  \n",
        "  session_train = session_max_times[session_max_times < tmax-86400].index\n",
        "  train = data[np.in1d(data.SessionId, session_train)]\n",
        "  \n",
        "  session_test = session_max_times[session_max_times >= tmax-86400].index\n",
        "  test = data[np.in1d(data.SessionId, session_test)]\n",
        "  test = test[np.in1d(test.ItemId, train.ItemId)]\n",
        "  tslength = test.groupby('SessionId').size()\n",
        "  test = test[np.in1d(test.SessionId, tslength[tslength>=2].index)]\n",
        "  print('Test set\\n\\tEvents: {}\\n\\tSessions: {}\\n\\tItems: {}'.format(len(test), test.SessionId.nunique(), test.ItemId.nunique()))\n",
        "  test.to_csv(dst_path + 'test.tsv', sep='\\t', index=False)\n",
        "\n",
        "  # Validation: second to last day. Train: remainder\n",
        "  tmax = train.Time.max()\n",
        "  session_max_times = train.groupby('SessionId').Time.max()\n",
        "  session_train = session_max_times[session_max_times < tmax-86400].index\n",
        "  session_valid = session_max_times[session_max_times >= tmax-86400].index\n",
        "\n",
        "  train_tr = train[np.in1d(train.SessionId, session_train)]\n",
        "  valid = train[np.in1d(train.SessionId, session_valid)]\n",
        "  valid = valid[np.in1d(valid.ItemId, train_tr.ItemId)]\n",
        "  tslength = valid.groupby('SessionId').size()\n",
        "  valid = valid[np.in1d(valid.SessionId, tslength[tslength>=2].index)]\n",
        "  print('Validation set\\n\\tEvents: {}\\n\\tSessions: {}\\n\\tItems: {}'.format(len(valid), valid.SessionId.nunique(), valid.ItemId.nunique()))\n",
        "  valid.to_csv(dst_path + 'validation.tsv', sep='\\t', index=False)\n",
        "  \n",
        "  \n",
        "  print('Train set\\n\\tEvents: {}\\n\\tSessions: {}\\n\\tItems: {}'.format(len(train_tr), train_tr.SessionId.nunique(), train_tr.ItemId.nunique()))\n",
        "  train_tr.to_csv(dst_path + 'train.tsv', sep='\\t', index=False)\n"
      ],
      "execution_count": 6,
      "outputs": []
    },
    {
      "cell_type": "code",
      "metadata": {
        "id": "nc6wy4phS1v2",
        "colab": {
          "base_uri": "https://localhost:8080/"
        },
        "outputId": "45216a42-b2ee-444a-b2bb-84978abfda83"
      },
      "source": [
        "process(src_path, dst_path)  # Takes ~10 minutes"
      ],
      "execution_count": 7,
      "outputs": [
        {
          "output_type": "stream",
          "name": "stdout",
          "text": [
            "Test set\n",
            "\tEvents: 71222\n",
            "\tSessions: 15324\n",
            "\tItems: 6751\n",
            "Validation set\n",
            "\tEvents: 58233\n",
            "\tSessions: 12372\n",
            "\tItems: 6359\n",
            "Train set\n",
            "\tEvents: 31579006\n",
            "\tSessions: 7953885\n",
            "\tItems: 37483\n"
          ]
        }
      ]
    },
    {
      "cell_type": "code",
      "metadata": {
        "id": "kx_HdipUDS2z"
      },
      "source": [
        "def train_fraction(df, fraction, prefix=\"train\", path=\"./data/\"):\n",
        "    \n",
        "    length = len(df['ItemId'])\n",
        "    first_session = df.iloc[length - length//fraction].SessionId\n",
        "    df = df.loc[df['SessionId'] >= first_session]\n",
        "    itemids = df['ItemId'].unique()\n",
        "    n_items = len(itemids)\n",
        "\n",
        "    print('Fractioned data set\\n\\tEvents: {}\\n\\tSessions: {}\\n\\tItems: {}'.format(len(df), df.SessionId.nunique(), df.ItemId.nunique()))\n",
        "    filename = path + '{}_{}.tsv'.format(prefix, fraction)\n",
        "    df.to_csv(filename, sep='\\t', index=False)\n",
        "    print(\"Saved as {}\".format(filename))"
      ],
      "execution_count": 12,
      "outputs": []
    },
    {
      "cell_type": "code",
      "metadata": {
        "id": "4r1tWG1gh7eX",
        "colab": {
          "base_uri": "https://localhost:8080/"
        },
        "outputId": "3f89c22d-d2f0-4a10-b200-6aa9bee2b312"
      },
      "source": [
        "# Obtain most recent 1/nth fraction of train for demo purposes\n",
        "fraction = 64\n",
        "train = pd.read_csv(dst_path + 'train.tsv', sep='\\t', dtype={'ItemId':np.int64})\n",
        "train_fraction(train, fraction)\n"
      ],
      "execution_count": 14,
      "outputs": [
        {
          "output_type": "stream",
          "name": "stdout",
          "text": [
            "Fractioned data set\n",
            "\tEvents: 71391\n",
            "\tSessions: 17450\n",
            "\tItems: 8724\n",
            "Saved as ./data/train_64.tsv\n"
          ]
        }
      ]
    },
    {
      "cell_type": "markdown",
      "metadata": {
        "id": "ZWgvazVufHs6"
      },
      "source": [
        "# Entrenamiento"
      ]
    },
    {
      "cell_type": "code",
      "metadata": {
        "id": "PSPwVh4AS_GW",
        "colab": {
          "base_uri": "https://localhost:8080/"
        },
        "outputId": "96694885-a035-40b9-b8f3-58dc755ca885"
      },
      "source": [
        "!python src/model/gru4rec.py --epochs 200 --train-path ./data/train_64.tsv --dev-path ./data/validation.tsv --test-path ./data/test.tsv"
      ],
      "execution_count": 16,
      "outputs": [
        {
          "output_type": "stream",
          "name": "stdout",
          "text": [
            "/usr/local/lib/python3.7/dist-packages/keras/optimizer_v2/optimizer_v2.py:356: UserWarning: The `lr` argument is deprecated, use `learning_rate` instead.\n",
            "  \"The `lr` argument is deprecated, use `learning_rate` instead.\")\n",
            "Model: \"model\"\n",
            "_________________________________________________________________\n",
            "Layer (type)                 Output Shape              Param #   \n",
            "=================================================================\n",
            "input_1 (InputLayer)         [(512, 1, 8725)]          0         \n",
            "_________________________________________________________________\n",
            "GRU (GRU)                    [(512, 100), (512, 100)]  2648100   \n",
            "_________________________________________________________________\n",
            "dropout (Dropout)            (512, 100)                0         \n",
            "_________________________________________________________________\n",
            "dense (Dense)                (512, 8725)               881225    \n",
            "=================================================================\n",
            "Total params: 3,529,325\n",
            "Trainable params: 3,529,325\n",
            "Non-trainable params: 0\n",
            "_________________________________________________________________\n",
            "Epoch 1. Loss: 8.34232:  97% 16929/17451 [00:14<00:00, 1165.16it/s]\n",
            "Epoch 2. Loss: 7.88970:  97% 16929/17451 [00:08<00:00, 1961.60it/s]\n",
            "Epoch 3. Loss: 7.61410:  97% 16929/17451 [00:08<00:00, 1971.05it/s]\n",
            "Epoch 4. Loss: 7.41422:  97% 16929/17451 [00:08<00:00, 1988.88it/s]\n",
            "Epoch 5. Loss: 7.27329:  97% 16929/17451 [00:08<00:00, 2023.97it/s]\n",
            "Epoch 6. Loss: 7.15371:  97% 16929/17451 [00:08<00:00, 2015.00it/s]\n",
            "Epoch 7. Loss: 7.02691:  97% 16929/17451 [00:08<00:00, 1988.63it/s]\n",
            "Epoch 8. Loss: 6.85496:  97% 16929/17451 [00:08<00:00, 1989.72it/s]\n",
            "Epoch 9. Loss: 6.66264:  97% 16929/17451 [00:08<00:00, 1991.42it/s]\n",
            "Epoch 10. Loss: 6.47804:  97% 16929/17451 [00:08<00:00, 1997.15it/s]\n",
            "Epoch 11. Loss: 6.26309:  97% 16929/17451 [00:08<00:00, 2009.55it/s]\n",
            "Epoch 12. Loss: 6.08675:  97% 16929/17451 [00:08<00:00, 1985.62it/s]\n",
            "Epoch 13. Loss: 5.87221:  97% 16929/17451 [00:08<00:00, 1989.70it/s]\n",
            "Epoch 14. Loss: 5.74556:  97% 16929/17451 [00:08<00:00, 1991.73it/s]\n",
            "Epoch 15. Loss: 5.55660:  97% 16929/17451 [00:08<00:00, 1999.88it/s]\n",
            "Epoch 16. Loss: 5.41786:  97% 16929/17451 [00:08<00:00, 1985.24it/s]\n",
            "Epoch 17. Loss: 5.27276:  97% 16929/17451 [00:08<00:00, 1993.78it/s]\n",
            "Epoch 18. Loss: 5.12140:  97% 16929/17451 [00:08<00:00, 1977.81it/s]\n",
            "Epoch 19. Loss: 5.00151:  97% 16929/17451 [00:08<00:00, 1968.76it/s]\n",
            "Epoch 20. Loss: 4.83611:  97% 16929/17451 [00:08<00:00, 1978.16it/s]\n",
            "Epoch 21. Loss: 4.73052:  97% 16929/17451 [00:08<00:00, 1994.94it/s]\n",
            "Epoch 22. Loss: 4.59739:  97% 16929/17451 [00:08<00:00, 1964.00it/s]\n",
            "Epoch 23. Loss: 4.49448:  97% 16929/17451 [00:08<00:00, 1974.47it/s]\n",
            "Epoch 24. Loss: 4.38318:  97% 16929/17451 [00:08<00:00, 1950.82it/s]\n",
            "Epoch 25. Loss: 4.29491:  97% 16929/17451 [00:08<00:00, 1982.47it/s]\n",
            "Epoch 26. Loss: 4.14801:  97% 16929/17451 [00:08<00:00, 1963.21it/s]\n",
            "Epoch 27. Loss: 4.07516:  97% 16929/17451 [00:08<00:00, 1970.85it/s]\n",
            "Epoch 28. Loss: 3.90368:  97% 16929/17451 [00:08<00:00, 1976.09it/s]\n",
            "Epoch 29. Loss: 3.87032:  97% 16929/17451 [00:08<00:00, 1963.50it/s]\n",
            "Epoch 30. Loss: 3.75689:  97% 16929/17451 [00:08<00:00, 1951.42it/s]\n",
            "Epoch 31. Loss: 3.65381:  97% 16929/17451 [00:08<00:00, 1949.90it/s]\n",
            "Epoch 32. Loss: 3.62596:  97% 16929/17451 [00:08<00:00, 1963.61it/s]\n",
            "Epoch 33. Loss: 3.45899:  97% 16929/17451 [00:08<00:00, 1972.82it/s]\n",
            "Epoch 34. Loss: 3.38614:  97% 16929/17451 [00:08<00:00, 1970.92it/s]\n",
            "Epoch 35. Loss: 3.33776:  97% 16929/17451 [00:08<00:00, 1952.87it/s]\n",
            "Epoch 36. Loss: 3.20124:  97% 16929/17451 [00:08<00:00, 1952.87it/s]\n",
            "Epoch 37. Loss: 3.19525:  97% 16929/17451 [00:08<00:00, 1969.05it/s]\n",
            "Epoch 38. Loss: 3.11422:  97% 16929/17451 [00:08<00:00, 1980.52it/s]\n",
            "Epoch 39. Loss: 3.05837:  97% 16929/17451 [00:08<00:00, 1960.25it/s]\n",
            "Epoch 40. Loss: 2.97062:  97% 16929/17451 [00:08<00:00, 1971.87it/s]\n",
            "Epoch 41. Loss: 2.90165:  97% 16929/17451 [00:08<00:00, 1965.08it/s]\n",
            "Epoch 42. Loss: 2.83301:  97% 16929/17451 [00:08<00:00, 1967.12it/s]\n",
            "Epoch 43. Loss: 2.81525:  97% 16929/17451 [00:08<00:00, 1972.88it/s]\n",
            "Epoch 44. Loss: 2.73365:  97% 16929/17451 [00:08<00:00, 1948.48it/s]\n",
            "Epoch 45. Loss: 2.68877:  97% 16929/17451 [00:08<00:00, 1951.86it/s]\n",
            "Epoch 46. Loss: 2.67636:  97% 16929/17451 [00:08<00:00, 1957.60it/s]\n",
            "Epoch 47. Loss: 2.60725:  97% 16929/17451 [00:08<00:00, 1936.46it/s]\n",
            "Epoch 48. Loss: 2.60190:  97% 16929/17451 [00:08<00:00, 1940.83it/s]\n",
            "Epoch 49. Loss: 2.59099:  97% 16929/17451 [00:08<00:00, 1953.10it/s]\n",
            "Epoch 50. Loss: 2.56423:  97% 16929/17451 [00:08<00:00, 1969.13it/s]\n",
            "Epoch 51. Loss: 2.54104:  97% 16929/17451 [00:08<00:00, 1956.88it/s]\n",
            "Epoch 52. Loss: 2.51601:  97% 16929/17451 [00:08<00:00, 1975.11it/s]\n",
            "Epoch 53. Loss: 2.47238:  97% 16929/17451 [00:08<00:00, 1997.38it/s]\n",
            "Epoch 54. Loss: 2.41065:  97% 16929/17451 [00:08<00:00, 1999.67it/s]\n",
            "Epoch 55. Loss: 2.42028:  97% 16929/17451 [00:08<00:00, 1977.93it/s]\n",
            "Epoch 56. Loss: 2.41000:  97% 16929/17451 [00:08<00:00, 1977.64it/s]\n",
            "Epoch 57. Loss: 2.35306:  97% 16929/17451 [00:08<00:00, 1992.35it/s]\n",
            "Epoch 58. Loss: 2.31532:  97% 16929/17451 [00:08<00:00, 1952.78it/s]\n",
            "Epoch 59. Loss: 2.26645:  97% 16929/17451 [00:08<00:00, 1964.71it/s]\n",
            "Epoch 60. Loss: 2.30830:  97% 16929/17451 [00:08<00:00, 1954.27it/s]\n",
            "Epoch 61. Loss: 2.27374:  97% 16929/17451 [00:08<00:00, 1954.02it/s]\n",
            "Epoch 62. Loss: 2.31158:  97% 16929/17451 [00:08<00:00, 1947.26it/s]\n",
            "Epoch 63. Loss: 2.29036:  97% 16929/17451 [00:08<00:00, 1977.28it/s]\n",
            "Epoch 64. Loss: 2.20777:  97% 16929/17451 [00:08<00:00, 1965.01it/s]\n",
            "Epoch 65. Loss: 2.23568:  97% 16929/17451 [00:08<00:00, 1938.04it/s]\n",
            "Epoch 66. Loss: 2.24894:  97% 16929/17451 [00:08<00:00, 1935.49it/s]\n",
            "Epoch 67. Loss: 2.21363:  97% 16929/17451 [00:08<00:00, 1970.95it/s]\n",
            "Epoch 68. Loss: 2.22361:  97% 16929/17451 [00:08<00:00, 1987.37it/s]\n",
            "Epoch 69. Loss: 2.19880:  97% 16929/17451 [00:08<00:00, 1980.20it/s]\n",
            "Epoch 70. Loss: 2.16201:  97% 16929/17451 [00:08<00:00, 1929.85it/s]\n",
            "Epoch 71. Loss: 2.16137:  97% 16929/17451 [00:08<00:00, 1957.33it/s]\n",
            "Epoch 72. Loss: 2.12125:  97% 16929/17451 [00:08<00:00, 1970.43it/s]\n",
            "Epoch 73. Loss: 2.15236:  97% 16929/17451 [00:08<00:00, 1997.85it/s]\n",
            "Epoch 74. Loss: 2.18223:  97% 16929/17451 [00:08<00:00, 1986.28it/s]\n",
            "Epoch 75. Loss: 2.10988:  97% 16929/17451 [00:08<00:00, 1985.26it/s]\n",
            "Epoch 76. Loss: 2.15371:  97% 16929/17451 [00:08<00:00, 1987.34it/s]\n",
            "Epoch 77. Loss: 2.09931:  97% 16929/17451 [00:08<00:00, 1961.79it/s]\n",
            "Epoch 78. Loss: 2.07745:  97% 16929/17451 [00:08<00:00, 1968.05it/s]\n",
            "Epoch 79. Loss: 2.04604:  97% 16929/17451 [00:08<00:00, 1973.14it/s]\n",
            "Epoch 80. Loss: 2.01860:  97% 16929/17451 [00:08<00:00, 1980.48it/s]\n",
            "Epoch 81. Loss: 2.03990:  97% 16929/17451 [00:08<00:00, 1986.13it/s]\n",
            "Epoch 82. Loss: 2.08062:  97% 16929/17451 [00:08<00:00, 1990.91it/s]\n",
            "Epoch 83. Loss: 2.03341:  97% 16929/17451 [00:08<00:00, 1974.65it/s]\n",
            "Epoch 84. Loss: 1.98147:  97% 16929/17451 [00:08<00:00, 1968.83it/s]\n",
            "Epoch 85. Loss: 1.99978:  97% 16929/17451 [00:08<00:00, 1972.55it/s]\n",
            "Epoch 86. Loss: 2.01262:  97% 16929/17451 [00:08<00:00, 1979.68it/s]\n",
            "Epoch 87. Loss: 2.01234:  97% 16929/17451 [00:08<00:00, 1965.25it/s]\n",
            "Epoch 88. Loss: 2.00470:  97% 16929/17451 [00:08<00:00, 1998.43it/s]\n",
            "Epoch 89. Loss: 2.02163:  97% 16929/17451 [00:08<00:00, 1983.42it/s]\n",
            "Epoch 90. Loss: 1.96466:  97% 16929/17451 [00:08<00:00, 1983.98it/s]\n",
            "Epoch 91. Loss: 1.98061:  97% 16929/17451 [00:08<00:00, 1972.71it/s]\n",
            "Epoch 92. Loss: 1.96133:  97% 16929/17451 [00:08<00:00, 1988.60it/s]\n",
            "Epoch 93. Loss: 1.88585:  97% 16929/17451 [00:08<00:00, 1982.73it/s]\n",
            "Epoch 94. Loss: 1.97516:  97% 16929/17451 [00:08<00:00, 1975.49it/s]\n",
            "Epoch 95. Loss: 1.93404:  97% 16929/17451 [00:08<00:00, 1983.21it/s]\n",
            "Epoch 96. Loss: 1.90165:  97% 16929/17451 [00:08<00:00, 1982.51it/s]\n",
            "Epoch 97. Loss: 1.92435:  97% 16929/17451 [00:08<00:00, 1977.18it/s]\n",
            "Epoch 98. Loss: 1.91544:  97% 16929/17451 [00:08<00:00, 1976.80it/s]\n",
            "Epoch 99. Loss: 1.89096:  97% 16929/17451 [00:08<00:00, 1988.89it/s]\n",
            "Epoch 100. Loss: 1.93554:  97% 16929/17451 [00:08<00:00, 1971.80it/s]\n",
            "Epoch 101. Loss: 1.89870:  97% 16929/17451 [00:08<00:00, 1980.38it/s]\n",
            "Epoch 102. Loss: 1.85029:  97% 16929/17451 [00:08<00:00, 1979.97it/s]\n",
            "Epoch 103. Loss: 1.92011:  97% 16929/17451 [00:08<00:00, 1994.33it/s]\n",
            "Epoch 104. Loss: 1.89383:  97% 16929/17451 [00:08<00:00, 1985.06it/s]\n",
            "Epoch 105. Loss: 1.86202:  97% 16929/17451 [00:08<00:00, 1967.97it/s]\n",
            "Epoch 106. Loss: 1.87042:  97% 16929/17451 [00:08<00:00, 1969.07it/s]\n",
            "Epoch 107. Loss: 1.85455:  97% 16929/17451 [00:08<00:00, 1969.66it/s]\n",
            "Epoch 108. Loss: 1.81018:  97% 16929/17451 [00:08<00:00, 1963.72it/s]\n",
            "Epoch 109. Loss: 1.81000:  97% 16929/17451 [00:08<00:00, 1973.58it/s]\n",
            "Epoch 110. Loss: 1.81937:  97% 16929/17451 [00:08<00:00, 1900.83it/s]\n",
            "Epoch 111. Loss: 1.78081:  97% 16929/17451 [00:08<00:00, 1956.27it/s]\n",
            "Epoch 112. Loss: 1.80618:  97% 16929/17451 [00:08<00:00, 1960.95it/s]\n",
            "Epoch 113. Loss: 1.78967:  97% 16929/17451 [00:08<00:00, 1965.70it/s]\n",
            "Epoch 114. Loss: 1.80128:  97% 16929/17451 [00:08<00:00, 1957.19it/s]\n",
            "Epoch 115. Loss: 1.81898:  97% 16929/17451 [00:08<00:00, 1967.71it/s]\n",
            "Epoch 116. Loss: 1.76750:  97% 16929/17451 [00:08<00:00, 1978.02it/s]\n",
            "Epoch 117. Loss: 1.76135:  97% 16929/17451 [00:08<00:00, 2004.28it/s]\n",
            "Epoch 118. Loss: 1.76683:  97% 16929/17451 [00:08<00:00, 1995.92it/s]\n",
            "Epoch 119. Loss: 1.80096:  97% 16929/17451 [00:08<00:00, 1980.43it/s]\n",
            "Epoch 120. Loss: 1.82686:  97% 16929/17451 [00:08<00:00, 1992.88it/s]\n",
            "Epoch 121. Loss: 1.75645:  97% 16929/17451 [00:08<00:00, 1977.51it/s]\n",
            "Epoch 122. Loss: 1.78938:  97% 16929/17451 [00:08<00:00, 1991.25it/s]\n",
            "Epoch 123. Loss: 1.73519:  97% 16929/17451 [00:08<00:00, 2000.83it/s]\n",
            "Epoch 124. Loss: 1.77907:  97% 16929/17451 [00:08<00:00, 1999.95it/s]\n",
            "Epoch 125. Loss: 1.75103:  97% 16929/17451 [00:08<00:00, 1992.62it/s]\n",
            "Epoch 126. Loss: 1.74272:  97% 16929/17451 [00:08<00:00, 1996.07it/s]\n",
            "Epoch 127. Loss: 1.74153:  97% 16929/17451 [00:08<00:00, 2008.46it/s]\n",
            "Epoch 128. Loss: 1.71670:  97% 16929/17451 [00:08<00:00, 1991.12it/s]\n",
            "Epoch 129. Loss: 1.74621:  97% 16929/17451 [00:08<00:00, 1992.63it/s]\n",
            "Epoch 130. Loss: 1.70522:  97% 16929/17451 [00:08<00:00, 1978.29it/s]\n",
            "Epoch 131. Loss: 1.75682:  97% 16929/17451 [00:08<00:00, 1971.79it/s]\n",
            "Epoch 132. Loss: 1.77807:  97% 16929/17451 [00:08<00:00, 1989.06it/s]\n",
            "Epoch 133. Loss: 1.68891:  97% 16929/17451 [00:08<00:00, 1982.25it/s]\n",
            "Epoch 134. Loss: 1.66855:  97% 16929/17451 [00:08<00:00, 1981.25it/s]\n",
            "Epoch 135. Loss: 1.70996:  97% 16929/17451 [00:08<00:00, 1988.11it/s]\n",
            "Epoch 136. Loss: 1.69311:  97% 16929/17451 [00:08<00:00, 1978.77it/s]\n",
            "Epoch 137. Loss: 1.66496:  97% 16929/17451 [00:08<00:00, 1990.38it/s]\n",
            "Epoch 138. Loss: 1.73355:  97% 16929/17451 [00:08<00:00, 1981.86it/s]\n",
            "Epoch 139. Loss: 1.67673:  97% 16929/17451 [00:08<00:00, 1960.86it/s]\n",
            "Epoch 140. Loss: 1.70123:  97% 16929/17451 [00:08<00:00, 1991.38it/s]\n",
            "Epoch 141. Loss: 1.70344:  97% 16929/17451 [00:08<00:00, 1962.66it/s]\n",
            "Epoch 142. Loss: 1.69812:  97% 16929/17451 [00:08<00:00, 1918.90it/s]\n",
            "Epoch 143. Loss: 1.72714:  97% 16929/17451 [00:08<00:00, 1940.40it/s]\n",
            "Epoch 144. Loss: 1.71473:  97% 16929/17451 [00:08<00:00, 1967.45it/s]\n",
            "Epoch 145. Loss: 1.72211:  97% 16929/17451 [00:08<00:00, 1926.25it/s]\n",
            "Epoch 146. Loss: 1.68911:  97% 16929/17451 [00:08<00:00, 1941.86it/s]\n",
            "Epoch 147. Loss: 1.71013:  97% 16929/17451 [00:08<00:00, 1943.45it/s]\n",
            "Epoch 148. Loss: 1.66247:  97% 16929/17451 [00:08<00:00, 1960.15it/s]\n",
            "Epoch 149. Loss: 1.70226:  97% 16929/17451 [00:08<00:00, 1954.99it/s]\n",
            "Epoch 150. Loss: 1.66550:  97% 16929/17451 [00:08<00:00, 1949.00it/s]\n",
            "Epoch 151. Loss: 1.68160:  97% 16929/17451 [00:08<00:00, 1971.43it/s]\n",
            "Epoch 152. Loss: 1.64841:  97% 16929/17451 [00:08<00:00, 1978.67it/s]\n",
            "Epoch 153. Loss: 1.67662:  97% 16929/17451 [00:08<00:00, 1986.47it/s]\n",
            "Epoch 154. Loss: 1.66096:  97% 16929/17451 [00:08<00:00, 1960.99it/s]\n",
            "Epoch 155. Loss: 1.62168:  97% 16929/17451 [00:08<00:00, 1951.76it/s]\n",
            "Epoch 156. Loss: 1.61023:  97% 16929/17451 [00:08<00:00, 1976.74it/s]\n",
            "Epoch 157. Loss: 1.67317:  97% 16929/17451 [00:08<00:00, 1990.24it/s]\n",
            "Epoch 158. Loss: 1.63958:  97% 16929/17451 [00:08<00:00, 1988.87it/s]\n",
            "Epoch 159. Loss: 1.69472:  97% 16929/17451 [00:08<00:00, 1966.80it/s]\n",
            "Epoch 160. Loss: 1.67190:  97% 16929/17451 [00:08<00:00, 1961.23it/s]\n",
            "Epoch 161. Loss: 1.64584:  97% 16929/17451 [00:08<00:00, 1972.85it/s]\n",
            "Epoch 162. Loss: 1.63571:  97% 16929/17451 [00:08<00:00, 1939.18it/s]\n",
            "Epoch 163. Loss: 1.65305:  97% 16929/17451 [00:08<00:00, 1967.05it/s]\n",
            "Epoch 164. Loss: 1.65255:  97% 16929/17451 [00:08<00:00, 1956.57it/s]\n",
            "Epoch 165. Loss: 1.60803:  97% 16929/17451 [00:08<00:00, 1984.87it/s]\n",
            "Epoch 166. Loss: 1.59235:  97% 16929/17451 [00:08<00:00, 1968.90it/s]\n",
            "Epoch 167. Loss: 1.60895:  97% 16929/17451 [00:08<00:00, 1965.54it/s]\n",
            "Epoch 168. Loss: 1.60432:  97% 16929/17451 [00:08<00:00, 1981.86it/s]\n",
            "Epoch 169. Loss: 1.56724:  97% 16929/17451 [00:08<00:00, 1987.52it/s]\n",
            "Epoch 170. Loss: 1.63324:  97% 16929/17451 [00:08<00:00, 1961.46it/s]\n",
            "Epoch 171. Loss: 1.59604:  97% 16929/17451 [00:08<00:00, 1969.64it/s]\n",
            "Epoch 172. Loss: 1.61430:  97% 16929/17451 [00:08<00:00, 1961.57it/s]\n",
            "Epoch 173. Loss: 1.56945:  97% 16929/17451 [00:08<00:00, 1979.06it/s]\n",
            "Epoch 174. Loss: 1.67210:  97% 16929/17451 [00:08<00:00, 1972.02it/s]\n",
            "Epoch 175. Loss: 1.57960:  97% 16929/17451 [00:08<00:00, 1985.67it/s]\n",
            "Epoch 176. Loss: 1.65867:  97% 16929/17451 [00:08<00:00, 1973.94it/s]\n",
            "Epoch 177. Loss: 1.59798:  97% 16929/17451 [00:08<00:00, 1990.70it/s]\n",
            "Epoch 178. Loss: 1.61151:  97% 16929/17451 [00:08<00:00, 1970.73it/s]\n",
            "Epoch 179. Loss: 1.57027:  97% 16929/17451 [00:08<00:00, 1988.44it/s]\n",
            "Epoch 180. Loss: 1.56376:  97% 16929/17451 [00:08<00:00, 1970.50it/s]\n",
            "Epoch 181. Loss: 1.57450:  97% 16929/17451 [00:08<00:00, 1964.53it/s]\n",
            "Epoch 182. Loss: 1.56303:  97% 16929/17451 [00:08<00:00, 1973.25it/s]\n",
            "Epoch 183. Loss: 1.53602:  97% 16929/17451 [00:08<00:00, 1987.99it/s]\n",
            "Epoch 184. Loss: 1.57992:  97% 16929/17451 [00:08<00:00, 1973.51it/s]\n",
            "Epoch 185. Loss: 1.54343:  97% 16929/17451 [00:08<00:00, 1963.12it/s]\n",
            "Epoch 186. Loss: 1.62091:  97% 16929/17451 [00:08<00:00, 1968.17it/s]\n",
            "Epoch 187. Loss: 1.56153:  97% 16929/17451 [00:08<00:00, 1974.42it/s]\n",
            "Epoch 188. Loss: 1.57226:  97% 16929/17451 [00:08<00:00, 1973.57it/s]\n",
            "Epoch 189. Loss: 1.55352:  97% 16929/17451 [00:08<00:00, 1983.32it/s]\n",
            "Epoch 190. Loss: 1.48461:  97% 16929/17451 [00:08<00:00, 1958.63it/s]\n",
            "Epoch 191. Loss: 1.55554:  97% 16929/17451 [00:08<00:00, 1960.77it/s]\n",
            "Epoch 192. Loss: 1.58084:  97% 16929/17451 [00:08<00:00, 1942.38it/s]\n",
            "Epoch 193. Loss: 1.58336:  97% 16929/17451 [00:08<00:00, 1948.20it/s]\n",
            "Epoch 194. Loss: 1.52944:  97% 16929/17451 [00:08<00:00, 1966.69it/s]\n",
            "Epoch 195. Loss: 1.56358:  97% 16929/17451 [00:08<00:00, 1983.23it/s]\n",
            "Epoch 196. Loss: 1.52846:  97% 16929/17451 [00:08<00:00, 1948.23it/s]\n",
            "Epoch 197. Loss: 1.58000:  97% 16929/17451 [00:08<00:00, 1936.88it/s]\n",
            "Epoch 198. Loss: 1.57757:  97% 16929/17451 [00:08<00:00, 1953.51it/s]\n",
            "Epoch 199. Loss: 1.56666:  97% 16929/17451 [00:08<00:00, 1957.85it/s]\n",
            "Evaluating model...\n",
            "\t - Recall@20 epoch 200: 0.456653\n",
            "\t - MRR@20    epoch 200: 0.160098\n",
            "\n"
          ]
        }
      ]
    },
    {
      "cell_type": "markdown",
      "metadata": {
        "id": "tk9EgsON-8Sr"
      },
      "source": [
        "## Resultados\n",
        "\n",
        "Luego de 200 épocas, deberías obtener un desempeño similar al siguiente:\n",
        "\n",
        "\t - Recall@20: 0.47\n",
        "\t - MRR@20   : 0.16\n",
        "\n",
        "\n",
        "Para replicar resultados del paper, utiliza el set de entrenamiento completo"
      ]
    },
    {
      "cell_type": "markdown",
      "metadata": {
        "id": "njfQIzqi_KK8"
      },
      "source": [
        "## Aprovechando información implícita: Dwell Time\n",
        "\n",
        "Podemos utilizar el tiempo que cada item fue visitado por cada usuario para realizar mejores recomendaciones.\n",
        "\n",
        "El supuesto es: a mayor tiempo de permanencia (dwell time) en un item, más interesado está el usuario en dicho item.\n",
        "\n",
        "Se hará item boosting en el set de entrenamiento."
      ]
    },
    {
      "cell_type": "code",
      "metadata": {
        "id": "lh9fruDcuVYg"
      },
      "source": [
        "def preprocess_df(df):    \n",
        "    n_items = len(df['ItemId'].unique())\n",
        "    aux = list(df['ItemId'].unique())\n",
        "    itemids = np.array(aux)\n",
        "    itemidmap = pd.Series(data=np.arange(n_items), index=itemids)  # (id_item => (0, n_items))\n",
        "    \n",
        "    item_key = 'ItemId'\n",
        "    session_key = 'SessionId'\n",
        "    time_key = 'Time'\n",
        "    \n",
        "    data = pd.merge(df, pd.DataFrame({item_key:itemids, 'ItemIdx':itemidmap[itemids].values}), on=item_key, how='inner')\n",
        "    data.sort_values([session_key, time_key], inplace=True)\n",
        "\n",
        "    length = len(data['ItemId'])\n",
        "        \n",
        "    return data"
      ],
      "execution_count": 17,
      "outputs": []
    },
    {
      "cell_type": "code",
      "metadata": {
        "id": "j5O-1YDR_vNY"
      },
      "source": [
        "def compute_dwell_time(df):\n",
        "    times_t = np.roll(df['Time'], -1) # Take time row\n",
        "    times_dt  = df['Time']            # Copy, then displace by one\n",
        "    diffs = np.subtract(times_t, times_dt) # Take pairwise difference\n",
        "    length = len(df['ItemId'])\n",
        "    \n",
        "    # cummulative offset start for each session\n",
        "    offset_sessions = np.zeros(df['SessionId'].nunique()+1, dtype=np.int32)\n",
        "    offset_sessions[1:] = df.groupby('SessionId').size().cumsum() \n",
        "    offset_sessions = offset_sessions - 1\n",
        "    offset_sessions = np.roll(offset_sessions, -1)\n",
        "    \n",
        "    np.put(diffs.values, offset_sessions, np.zeros((offset_sessions.shape)), mode='raise')\n",
        "\n",
        "    return diffs"
      ],
      "execution_count": 18,
      "outputs": []
    },
    {
      "cell_type": "code",
      "metadata": {
        "id": "7vFvOPH9Bfeq"
      },
      "source": [
        "def get_distribution(dts):\n",
        "    filtered = np.array(list(filter(lambda x: int(x) != 0, dts)))\n",
        "    pd_dts = pd.DataFrame(filtered)\n",
        "    pd_dts.boxplot(vert=False, showfliers=False)\n",
        "    plt.xlabel(\"Seconds\")\n",
        "    plt.yticks([])\n",
        "    plt.title(\"Dwell time distribution for RSC15 dataset\")\n",
        "    plt.show()\n",
        "    pd_dts.describe()"
      ],
      "execution_count": 19,
      "outputs": []
    },
    {
      "cell_type": "code",
      "metadata": {
        "id": "pPxWD0xPBfVE"
      },
      "source": [
        "def join_dwell_reps(df, dt, threshold=2000):\n",
        "    # Calculate d_ti/threshold + 1 then add column to dataFrame\n",
        "    dt //= threshold\n",
        "    dt += 1   \n",
        "    df['DwellReps'] = pd.Series(dt.astype(np.int64), index=dt.index)"
      ],
      "execution_count": 20,
      "outputs": []
    },
    {
      "cell_type": "code",
      "metadata": {
        "id": "jYX1RjhQ_wZG"
      },
      "source": [
        "def augment(df):    \n",
        "    col_names = list(df.columns.values)[:3]\n",
        "    augmented = np.repeat(df.values, df['DwellReps'], axis=0) \n",
        "    augmented = pd.DataFrame(data=augmented[:,:3],\n",
        "                             columns=col_names)\n",
        "    dtype = {'SessionId': np.int64, \n",
        "             'ItemId': np.int64, \n",
        "             'Time': np.float32}\n",
        "    \n",
        "    for k, v in dtype.items():\n",
        "        augmented[k] = augmented[k].astype(v)                  \n",
        "    \n",
        "    return augmented"
      ],
      "execution_count": 21,
      "outputs": []
    },
    {
      "cell_type": "code",
      "metadata": {
        "id": "veILDG2X_yJm"
      },
      "source": [
        "new_df = preprocess_df(train)\n",
        "dts = compute_dwell_time(new_df)"
      ],
      "execution_count": 22,
      "outputs": []
    },
    {
      "cell_type": "code",
      "metadata": {
        "id": "7xIJMF5aABmF",
        "colab": {
          "base_uri": "https://localhost:8080/",
          "height": 295
        },
        "outputId": "f1299534-1913-4082-90b7-da6b389b2463"
      },
      "source": [
        "# Visualize\n",
        "get_distribution(dts)"
      ],
      "execution_count": 23,
      "outputs": [
        {
          "output_type": "display_data",
          "data": {
            "image/png": "[encoded data removed]",
            "text/plain": [
              "<Figure size 432x288 with 1 Axes>"
            ]
          },
          "metadata": {
            "needs_background": "light"
          }
        }
      ]
    },
    {
      "cell_type": "code",
      "metadata": {
        "id": "Y4mZ3YB0Ai4q"
      },
      "source": [
        "# threshold is a hyperparameter\n",
        "join_dwell_reps(new_df, dts, threshold=75)\n",
        "\n",
        "# augment the sessions copying each entry an additional (dwellReps[i]-1) times\n",
        "df_aug = augment(new_df)\n",
        "df_aug.to_csv(\"./data/augmented_train.csv\", index=False, sep='\\t')"
      ],
      "execution_count": 24,
      "outputs": []
    },
    {
      "cell_type": "code",
      "metadata": {
        "id": "X1N36STyCrrs",
        "colab": {
          "base_uri": "https://localhost:8080/"
        },
        "outputId": "1d1e48b0-85bf-47da-e58d-2e4e1bc7c805"
      },
      "source": [
        "# retrieve 1/n most recent fraction for demo purposes \n",
        "# (note it is a smaller fraction due to the inflation process)\n",
        "fraction = 64*7\n",
        "train_fraction(df_aug, fraction, prefix='aug_train')"
      ],
      "execution_count": 25,
      "outputs": [
        {
          "output_type": "stream",
          "name": "stdout",
          "text": [
            "Fractioned data set\n",
            "\tEvents: 151923\n",
            "\tSessions: 16351\n",
            "\tItems: 8484\n",
            "Saved as ./data/aug_train_448.tsv\n"
          ]
        }
      ]
    },
    {
      "cell_type": "markdown",
      "metadata": {
        "id": "v2E2q1ArD5Sr"
      },
      "source": [
        "## Entrenamiento con Dwell Time"
      ]
    },
    {
      "cell_type": "code",
      "metadata": {
        "id": "HNq8lpRADWZ2",
        "colab": {
          "base_uri": "https://localhost:8080/"
        },
        "outputId": "93df9458-b4fb-4462-8bcf-549f30b6081b"
      },
      "source": [
        "!python src/model/gru4rec.py --epochs 200 --train-path ./data/aug_train_448.tsv --dev-path ./data/validation.tsv --test-path ./data/test.tsv"
      ],
      "execution_count": 26,
      "outputs": [
        {
          "output_type": "stream",
          "name": "stdout",
          "text": [
            "/usr/local/lib/python3.7/dist-packages/keras/optimizer_v2/optimizer_v2.py:356: UserWarning: The `lr` argument is deprecated, use `learning_rate` instead.\n",
            "  \"The `lr` argument is deprecated, use `learning_rate` instead.\")\n",
            "Model: \"model\"\n",
            "_________________________________________________________________\n",
            "Layer (type)                 Output Shape              Param #   \n",
            "=================================================================\n",
            "input_1 (InputLayer)         [(512, 1, 8485)]          0         \n",
            "_________________________________________________________________\n",
            "GRU (GRU)                    [(512, 100), (512, 100)]  2576100   \n",
            "_________________________________________________________________\n",
            "dropout (Dropout)            (512, 100)                0         \n",
            "_________________________________________________________________\n",
            "dense (Dense)                (512, 8485)               856985    \n",
            "=================================================================\n",
            "Total params: 3,433,085\n",
            "Trainable params: 3,433,085\n",
            "Non-trainable params: 0\n",
            "_________________________________________________________________\n",
            "Epoch 1. Loss: 7.62652:  97% 15835/16352 [00:26<00:00, 591.57it/s]\n",
            "Epoch 2. Loss: 6.92124:  97% 15835/16352 [00:20<00:00, 761.69it/s]\n",
            "Epoch 3. Loss: 6.12675:  97% 15835/16352 [00:20<00:00, 764.60it/s]\n",
            "Epoch 4. Loss: 5.30009:  97% 15835/16352 [00:20<00:00, 769.27it/s]\n",
            "Epoch 5. Loss: 4.68561:  97% 15835/16352 [00:20<00:00, 765.05it/s]\n",
            "Epoch 6. Loss: 4.12828:  97% 15835/16352 [00:20<00:00, 773.30it/s]\n",
            "Epoch 7. Loss: 3.73062:  97% 15835/16352 [00:20<00:00, 769.68it/s]\n",
            "Epoch 8. Loss: 3.41691:  97% 15835/16352 [00:20<00:00, 770.61it/s]\n",
            "Epoch 9. Loss: 3.18051:  97% 15835/16352 [00:20<00:00, 773.86it/s]\n",
            "Epoch 10. Loss: 2.97483:  97% 15835/16352 [00:20<00:00, 771.42it/s]\n",
            "Epoch 11. Loss: 2.78089:  97% 15835/16352 [00:20<00:00, 769.70it/s]\n",
            "Epoch 12. Loss: 2.59216:  97% 15835/16352 [00:20<00:00, 770.80it/s]\n",
            "Epoch 13. Loss: 2.44975:  97% 15835/16352 [00:20<00:00, 766.92it/s]\n",
            "Epoch 14. Loss: 2.35324:  97% 15835/16352 [00:20<00:00, 771.05it/s]\n",
            "Epoch 15. Loss: 2.24078:  97% 15835/16352 [00:20<00:00, 768.54it/s]\n",
            "Epoch 16. Loss: 2.13632:  97% 15835/16352 [00:20<00:00, 771.32it/s]\n",
            "Epoch 17. Loss: 2.09616:  97% 15835/16352 [00:20<00:00, 776.24it/s]\n",
            "Epoch 18. Loss: 1.99353:  97% 15835/16352 [00:20<00:00, 773.49it/s]\n",
            "Epoch 19. Loss: 1.89624:  97% 15835/16352 [00:20<00:00, 778.63it/s]\n",
            "Epoch 20. Loss: 1.90765:  97% 15835/16352 [00:20<00:00, 775.65it/s]\n",
            "Epoch 21. Loss: 1.77276:  97% 15835/16352 [00:20<00:00, 769.29it/s]\n",
            "Epoch 22. Loss: 1.73924:  97% 15835/16352 [00:21<00:00, 750.35it/s]\n",
            "Epoch 23. Loss: 1.70545:  97% 15835/16352 [00:20<00:00, 756.80it/s]\n",
            "Epoch 24. Loss: 1.68179:  97% 15835/16352 [00:20<00:00, 758.13it/s]\n",
            "Epoch 25. Loss: 1.60735:  97% 15835/16352 [00:20<00:00, 764.36it/s]\n",
            "Epoch 26. Loss: 1.57889:  97% 15835/16352 [00:20<00:00, 777.17it/s]\n",
            "Epoch 27. Loss: 1.53173:  97% 15835/16352 [00:20<00:00, 773.59it/s]\n",
            "Epoch 28. Loss: 1.55751:  97% 15835/16352 [00:20<00:00, 774.08it/s]\n",
            "Epoch 29. Loss: 1.48480:  97% 15835/16352 [00:20<00:00, 774.86it/s]\n",
            "Epoch 30. Loss: 1.46832:  97% 15835/16352 [00:20<00:00, 770.52it/s]\n",
            "Epoch 31. Loss: 1.44824:  97% 15835/16352 [00:20<00:00, 765.41it/s]\n",
            "Epoch 32. Loss: 1.43289:  97% 15835/16352 [00:20<00:00, 771.70it/s]\n",
            "Epoch 33. Loss: 1.39545:  97% 15835/16352 [00:20<00:00, 771.41it/s]\n",
            "Epoch 34. Loss: 1.36727:  97% 15835/16352 [00:20<00:00, 769.96it/s]\n",
            "Epoch 35. Loss: 1.36022:  97% 15835/16352 [00:20<00:00, 771.45it/s]\n",
            "Epoch 36. Loss: 1.37209:  97% 15835/16352 [00:20<00:00, 766.95it/s]\n",
            "Epoch 37. Loss: 1.34660:  97% 15835/16352 [00:20<00:00, 765.79it/s]\n",
            "Epoch 38. Loss: 1.35291:  97% 15835/16352 [00:20<00:00, 763.56it/s]\n",
            "Epoch 39. Loss: 1.33400:  97% 15835/16352 [00:20<00:00, 762.32it/s]\n",
            "Epoch 40. Loss: 1.33959:  97% 15835/16352 [00:20<00:00, 760.52it/s]\n",
            "Epoch 41. Loss: 1.29013:  97% 15835/16352 [00:20<00:00, 761.93it/s]\n",
            "Epoch 42. Loss: 1.29003:  97% 15835/16352 [00:20<00:00, 765.98it/s]\n",
            "Epoch 43. Loss: 1.24724:  97% 15835/16352 [00:20<00:00, 766.68it/s]\n",
            "Epoch 44. Loss: 1.32131:  97% 15835/16352 [00:20<00:00, 763.06it/s]\n",
            "Epoch 45. Loss: 1.28072:  97% 15835/16352 [00:20<00:00, 758.29it/s]\n",
            "Epoch 46. Loss: 1.27326:  97% 15835/16352 [00:20<00:00, 758.18it/s]\n",
            "Epoch 47. Loss: 1.23590:  97% 15835/16352 [00:20<00:00, 760.33it/s]\n",
            "Epoch 48. Loss: 1.28718:  97% 15835/16352 [00:20<00:00, 765.95it/s]\n",
            "Epoch 49. Loss: 1.24315:  97% 15835/16352 [00:20<00:00, 759.52it/s]\n",
            "Epoch 50. Loss: 1.27531:  97% 15835/16352 [00:20<00:00, 769.16it/s]\n",
            "Epoch 51. Loss: 1.25348:  97% 15835/16352 [00:20<00:00, 759.54it/s]\n",
            "Epoch 52. Loss: 1.23136:  97% 15835/16352 [00:20<00:00, 765.76it/s]\n",
            "Epoch 53. Loss: 1.18664:  97% 15835/16352 [00:20<00:00, 765.11it/s]\n",
            "Epoch 54. Loss: 1.15541:  97% 15835/16352 [00:20<00:00, 766.86it/s]\n",
            "Epoch 55. Loss: 1.19968:  97% 15835/16352 [00:20<00:00, 769.61it/s]\n",
            "Epoch 56. Loss: 1.18311:  97% 15835/16352 [00:20<00:00, 758.58it/s]\n",
            "Epoch 57. Loss: 1.19654:  97% 15835/16352 [00:21<00:00, 752.13it/s]\n",
            "Epoch 58. Loss: 1.21152:  97% 15835/16352 [00:21<00:00, 745.73it/s]\n",
            "Epoch 59. Loss: 1.19747:  97% 15835/16352 [00:21<00:00, 747.30it/s]\n",
            "Epoch 60. Loss: 1.18412:  97% 15835/16352 [00:21<00:00, 748.62it/s]\n",
            "Epoch 61. Loss: 1.18172:  97% 15835/16352 [00:21<00:00, 746.27it/s]\n",
            "Epoch 62. Loss: 1.14118:  97% 15835/16352 [00:20<00:00, 754.85it/s]\n",
            "Epoch 63. Loss: 1.18233:  97% 15835/16352 [00:21<00:00, 751.15it/s]\n",
            "Epoch 64. Loss: 1.18057:  97% 15835/16352 [00:21<00:00, 750.81it/s]\n",
            "Epoch 65. Loss: 1.14313:  97% 15835/16352 [00:20<00:00, 755.09it/s]\n",
            "Epoch 66. Loss: 1.13788:  97% 15835/16352 [00:21<00:00, 743.71it/s]\n",
            "Epoch 67. Loss: 1.13463:  97% 15835/16352 [00:20<00:00, 759.12it/s]\n",
            "Epoch 68. Loss: 1.14131:  97% 15835/16352 [00:20<00:00, 764.12it/s]\n",
            "Epoch 69. Loss: 1.18987:  97% 15835/16352 [00:20<00:00, 767.77it/s]\n",
            "Epoch 70. Loss: 1.16489:  97% 15835/16352 [00:20<00:00, 770.67it/s]\n",
            "Epoch 71. Loss: 1.14343:  97% 15835/16352 [00:20<00:00, 768.30it/s]\n",
            "Epoch 72. Loss: 1.12622:  97% 15835/16352 [00:20<00:00, 763.27it/s]\n",
            "Epoch 73. Loss: 1.13915:  97% 15835/16352 [00:20<00:00, 761.21it/s]\n",
            "Epoch 74. Loss: 1.11664:  97% 15835/16352 [00:20<00:00, 762.25it/s]\n",
            "Epoch 75. Loss: 1.09203:  97% 15835/16352 [00:20<00:00, 755.27it/s]\n",
            "Epoch 76. Loss: 1.11810:  97% 15835/16352 [00:20<00:00, 758.46it/s]\n",
            "Epoch 77. Loss: 1.11527:  97% 15835/16352 [00:20<00:00, 762.70it/s]\n",
            "Epoch 78. Loss: 1.11315:  97% 15835/16352 [00:20<00:00, 769.70it/s]\n",
            "Epoch 79. Loss: 1.08466:  97% 15835/16352 [00:20<00:00, 763.86it/s]\n",
            "Epoch 80. Loss: 1.12101:  97% 15835/16352 [00:20<00:00, 765.79it/s]\n",
            "Epoch 81. Loss: 1.10185:  97% 15835/16352 [00:20<00:00, 766.45it/s]\n",
            "Epoch 82. Loss: 1.13032:  97% 15835/16352 [00:20<00:00, 768.58it/s]\n",
            "Epoch 83. Loss: 1.12678:  97% 15835/16352 [00:20<00:00, 761.79it/s]\n",
            "Epoch 84. Loss: 1.06713:  97% 15835/16352 [00:20<00:00, 758.84it/s]\n",
            "Epoch 85. Loss: 1.06734:  97% 15835/16352 [00:20<00:00, 765.87it/s]\n",
            "Epoch 86. Loss: 1.10206:  97% 15835/16352 [00:20<00:00, 766.57it/s]\n",
            "Epoch 87. Loss: 1.10726:  97% 15835/16352 [00:20<00:00, 772.70it/s]\n",
            "Epoch 88. Loss: 1.10864:  97% 15835/16352 [00:20<00:00, 770.40it/s]\n",
            "Epoch 89. Loss: 1.08591:  97% 15835/16352 [00:20<00:00, 774.91it/s]\n",
            "Epoch 90. Loss: 1.08788:  97% 15835/16352 [00:20<00:00, 770.53it/s]\n",
            "Epoch 91. Loss: 1.08891:  97% 15835/16352 [00:20<00:00, 774.30it/s]\n",
            "Epoch 92. Loss: 1.10436:  97% 15835/16352 [00:20<00:00, 765.56it/s]\n",
            "Epoch 93. Loss: 1.11639:  97% 15835/16352 [00:20<00:00, 765.03it/s]\n",
            "Epoch 94. Loss: 1.07510:  97% 15835/16352 [00:20<00:00, 772.62it/s]\n",
            "Epoch 95. Loss: 1.09542:  97% 15835/16352 [00:20<00:00, 775.20it/s]\n",
            "Epoch 96. Loss: 1.05162:  97% 15835/16352 [00:20<00:00, 773.64it/s]\n",
            "Epoch 97. Loss: 1.07214:  97% 15835/16352 [00:20<00:00, 775.39it/s]\n",
            "Epoch 98. Loss: 1.01699:  97% 15835/16352 [00:20<00:00, 778.84it/s]\n",
            "Epoch 99. Loss: 1.06313:  97% 15835/16352 [00:20<00:00, 776.98it/s]\n",
            "Epoch 100. Loss: 1.03431:  97% 15835/16352 [00:20<00:00, 768.05it/s]\n",
            "Epoch 101. Loss: 1.07558:  97% 15835/16352 [00:20<00:00, 767.57it/s]\n",
            "Epoch 102. Loss: 1.05741:  97% 15835/16352 [00:20<00:00, 774.78it/s]\n",
            "Epoch 103. Loss: 1.07791:  97% 15835/16352 [00:20<00:00, 763.01it/s]\n",
            "Epoch 104. Loss: 1.01564:  97% 15835/16352 [00:21<00:00, 753.90it/s]\n",
            "Epoch 105. Loss: 1.06601:  97% 15835/16352 [00:21<00:00, 749.35it/s]\n",
            "Epoch 106. Loss: 1.05834:  97% 15835/16352 [00:20<00:00, 759.30it/s]\n",
            "Epoch 107. Loss: 1.03948:  97% 15835/16352 [00:20<00:00, 760.58it/s]\n",
            "Epoch 108. Loss: 1.02232:  97% 15835/16352 [00:20<00:00, 760.37it/s]\n",
            "Epoch 109. Loss: 1.03791:  97% 15835/16352 [00:20<00:00, 758.95it/s]\n",
            "Epoch 110. Loss: 1.02646:  97% 15835/16352 [00:20<00:00, 759.82it/s]\n",
            "Epoch 111. Loss: 1.02515:  97% 15835/16352 [00:20<00:00, 765.41it/s]\n",
            "Epoch 112. Loss: 1.00550:  97% 15835/16352 [00:20<00:00, 766.22it/s]\n",
            "Epoch 113. Loss: 1.05466:  97% 15835/16352 [00:20<00:00, 764.40it/s]\n",
            "Epoch 114. Loss: 1.05562:  97% 15835/16352 [00:20<00:00, 768.38it/s]\n",
            "Epoch 115. Loss: 1.00496:  97% 15835/16352 [00:20<00:00, 769.30it/s]\n",
            "Epoch 116. Loss: 1.01196:  97% 15835/16352 [00:20<00:00, 766.90it/s]\n",
            "Epoch 117. Loss: 0.98231:  97% 15835/16352 [00:20<00:00, 754.79it/s]\n",
            "Epoch 118. Loss: 0.96431:  97% 15835/16352 [00:20<00:00, 764.46it/s]\n",
            "Epoch 119. Loss: 1.01186:  97% 15835/16352 [00:20<00:00, 767.20it/s]\n",
            "Epoch 120. Loss: 1.04736:  97% 15835/16352 [00:20<00:00, 768.88it/s]\n",
            "Epoch 121. Loss: 1.02948:  97% 15835/16352 [00:20<00:00, 769.20it/s]\n",
            "Epoch 122. Loss: 1.03210:  97% 15835/16352 [00:20<00:00, 767.77it/s]\n",
            "Epoch 123. Loss: 0.96122:  97% 15835/16352 [00:20<00:00, 764.97it/s]\n",
            "Epoch 124. Loss: 1.01242:  97% 15835/16352 [00:20<00:00, 767.91it/s]\n",
            "Epoch 125. Loss: 1.01119:  97% 15835/16352 [00:20<00:00, 754.27it/s]\n",
            "Epoch 126. Loss: 0.98777:  97% 15835/16352 [00:20<00:00, 763.87it/s]\n",
            "Epoch 127. Loss: 1.02303:  97% 15835/16352 [00:20<00:00, 761.96it/s]\n",
            "Epoch 128. Loss: 1.02148:  97% 15835/16352 [00:20<00:00, 764.97it/s]\n",
            "Epoch 129. Loss: 1.01109:  97% 15835/16352 [00:20<00:00, 768.37it/s]\n",
            "Epoch 130. Loss: 1.00540:  97% 15835/16352 [00:20<00:00, 766.09it/s]\n",
            "Epoch 131. Loss: 1.02169:  97% 15835/16352 [00:20<00:00, 765.91it/s]\n",
            "Epoch 132. Loss: 0.94423:  97% 15835/16352 [00:20<00:00, 768.63it/s]\n",
            "Epoch 133. Loss: 0.99708:  97% 15835/16352 [00:20<00:00, 767.91it/s]\n",
            "Epoch 134. Loss: 0.96363:  97% 15835/16352 [00:20<00:00, 760.94it/s]\n",
            "Epoch 135. Loss: 1.00005:  97% 15835/16352 [00:20<00:00, 765.40it/s]\n",
            "Epoch 136. Loss: 0.96520:  97% 15835/16352 [00:20<00:00, 773.41it/s]\n",
            "Epoch 137. Loss: 0.98062:  97% 15835/16352 [00:20<00:00, 773.60it/s]\n",
            "Epoch 138. Loss: 1.02250:  97% 15835/16352 [00:20<00:00, 771.19it/s]\n",
            "Epoch 139. Loss: 0.98346:  97% 15835/16352 [00:20<00:00, 778.61it/s]\n",
            "Epoch 140. Loss: 0.97250:  97% 15835/16352 [00:20<00:00, 777.07it/s]\n",
            "Epoch 141. Loss: 0.96940:  97% 15835/16352 [00:20<00:00, 772.01it/s]\n",
            "Epoch 142. Loss: 1.01141:  97% 15835/16352 [00:20<00:00, 767.22it/s]\n",
            "Epoch 143. Loss: 1.03412:  97% 15835/16352 [00:20<00:00, 763.19it/s]\n",
            "Epoch 144. Loss: 1.01679:  97% 15835/16352 [00:20<00:00, 776.52it/s]\n",
            "Epoch 145. Loss: 0.96355:  97% 15835/16352 [00:20<00:00, 775.96it/s]\n",
            "Epoch 146. Loss: 0.99719:  97% 15835/16352 [00:20<00:00, 772.85it/s]\n",
            "Epoch 147. Loss: 0.96319:  97% 15835/16352 [00:20<00:00, 776.63it/s]\n",
            "Epoch 148. Loss: 0.94761:  97% 15835/16352 [00:20<00:00, 775.49it/s]\n",
            "Epoch 149. Loss: 0.94814:  97% 15835/16352 [00:20<00:00, 777.42it/s]\n",
            "Epoch 150. Loss: 0.97383:  97% 15835/16352 [00:20<00:00, 763.59it/s]\n",
            "Epoch 151. Loss: 0.97349:  97% 15835/16352 [00:20<00:00, 768.20it/s]\n",
            "Epoch 152. Loss: 0.97290:  97% 15835/16352 [00:20<00:00, 777.23it/s]\n",
            "Epoch 153. Loss: 0.99435:  97% 15835/16352 [00:20<00:00, 775.41it/s]\n",
            "Epoch 154. Loss: 0.99576:  97% 15835/16352 [00:20<00:00, 775.00it/s]\n",
            "Epoch 155. Loss: 0.95301:  97% 15835/16352 [00:20<00:00, 780.97it/s]\n",
            "Epoch 156. Loss: 0.99366:  97% 15835/16352 [00:20<00:00, 771.44it/s]\n",
            "Epoch 157. Loss: 0.96158:  97% 15835/16352 [00:20<00:00, 772.01it/s]\n",
            "Epoch 158. Loss: 0.94175:  97% 15835/16352 [00:20<00:00, 769.70it/s]\n",
            "Epoch 159. Loss: 0.93687:  97% 15835/16352 [00:20<00:00, 763.47it/s]\n",
            "Epoch 160. Loss: 0.93138:  97% 15835/16352 [00:20<00:00, 782.81it/s]\n",
            "Epoch 161. Loss: 0.93635:  97% 15835/16352 [00:19<00:00, 793.65it/s]\n",
            "Epoch 162. Loss: 0.98763:  97% 15835/16352 [00:20<00:00, 778.14it/s]\n",
            "Epoch 163. Loss: 0.97286:  97% 15835/16352 [00:20<00:00, 783.57it/s]\n",
            "Epoch 164. Loss: 0.96796:  97% 15835/16352 [00:20<00:00, 762.81it/s]\n",
            "Epoch 165. Loss: 0.95295:  97% 15835/16352 [00:20<00:00, 781.77it/s]\n",
            "Epoch 166. Loss: 0.96543:  97% 15835/16352 [00:20<00:00, 788.75it/s]\n",
            "Epoch 167. Loss: 0.94988:  97% 15835/16352 [00:20<00:00, 780.32it/s]\n",
            "Epoch 168. Loss: 0.97618:  97% 15835/16352 [00:20<00:00, 773.97it/s]\n",
            "Epoch 169. Loss: 0.94729:  97% 15835/16352 [00:20<00:00, 775.23it/s]\n",
            "Epoch 170. Loss: 1.02477:  97% 15835/16352 [00:20<00:00, 772.06it/s]\n",
            "Epoch 171. Loss: 0.98715:  97% 15835/16352 [00:20<00:00, 783.55it/s]\n",
            "Epoch 172. Loss: 0.98024:  97% 15835/16352 [00:20<00:00, 773.52it/s]\n",
            "Epoch 173. Loss: 0.96283:  97% 15835/16352 [00:20<00:00, 773.69it/s]\n",
            "Epoch 174. Loss: 0.91923:  97% 15835/16352 [00:20<00:00, 779.69it/s]\n",
            "Epoch 175. Loss: 0.92892:  97% 15835/16352 [00:20<00:00, 781.83it/s]\n",
            "Epoch 176. Loss: 0.95741:  97% 15835/16352 [00:20<00:00, 783.77it/s]\n",
            "Epoch 177. Loss: 0.99984:  97% 15835/16352 [00:20<00:00, 777.06it/s]\n",
            "Epoch 178. Loss: 0.92848:  97% 15835/16352 [00:20<00:00, 774.67it/s]\n",
            "Epoch 179. Loss: 0.96845:  97% 15835/16352 [00:20<00:00, 768.24it/s]\n",
            "Epoch 180. Loss: 0.95120:  97% 15835/16352 [00:20<00:00, 770.65it/s]\n",
            "Epoch 181. Loss: 0.98547:  97% 15835/16352 [00:20<00:00, 771.71it/s]\n",
            "Epoch 182. Loss: 0.93762:  97% 15835/16352 [00:20<00:00, 770.65it/s]\n",
            "Epoch 183. Loss: 0.99104:  97% 15835/16352 [00:20<00:00, 773.01it/s]\n",
            "Epoch 184. Loss: 1.01266:  97% 15835/16352 [00:20<00:00, 776.54it/s]\n",
            "Epoch 185. Loss: 0.89800:  97% 15835/16352 [00:20<00:00, 764.50it/s]\n",
            "Epoch 186. Loss: 0.95908:  97% 15835/16352 [00:20<00:00, 777.96it/s]\n",
            "Epoch 187. Loss: 0.98347:  97% 15835/16352 [00:20<00:00, 773.99it/s]\n",
            "Epoch 188. Loss: 0.97516:  97% 15835/16352 [00:20<00:00, 760.32it/s]\n",
            "Epoch 189. Loss: 0.94883:  97% 15835/16352 [00:20<00:00, 761.37it/s]\n",
            "Epoch 190. Loss: 0.94053:  97% 15835/16352 [00:20<00:00, 764.35it/s]\n",
            "Epoch 191. Loss: 0.94210:  97% 15835/16352 [00:20<00:00, 765.22it/s]\n",
            "Epoch 192. Loss: 0.90888:  97% 15835/16352 [00:20<00:00, 762.93it/s]\n",
            "Epoch 193. Loss: 0.92017:  97% 15835/16352 [00:20<00:00, 764.67it/s]\n",
            "Epoch 194. Loss: 0.94853:  97% 15835/16352 [00:20<00:00, 760.63it/s]\n",
            "Epoch 195. Loss: 0.94415:  97% 15835/16352 [00:20<00:00, 773.15it/s]\n",
            "Epoch 196. Loss: 0.96303:  97% 15835/16352 [00:20<00:00, 769.32it/s]\n",
            "Epoch 197. Loss: 0.92278:  97% 15835/16352 [00:20<00:00, 770.98it/s]\n",
            "Epoch 198. Loss: 0.90800:  97% 15835/16352 [00:20<00:00, 768.39it/s]\n",
            "Epoch 199. Loss: 1.02822:  97% 15835/16352 [00:20<00:00, 771.95it/s]\n",
            "Evaluating model...\n",
            "\t - Recall@20 epoch 200: 0.511998\n",
            "\t - MRR@20    epoch 200: 0.211121\n",
            "\n"
          ]
        }
      ]
    },
    {
      "cell_type": "markdown",
      "metadata": {
        "id": "YdMFiWFK65w1"
      },
      "source": [
        "Indique el resultado del modelo con Dwell Time. \n",
        "\n",
        "Recall@20 : 0.511998\n",
        "\n",
        "MRR@20 : 0.211121"
      ]
    }
  ]
}