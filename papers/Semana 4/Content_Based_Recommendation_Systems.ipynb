{
  "nbformat": 4,
  "nbformat_minor": 0,
  "metadata": {
    "colab": {
      "name": "Content-Based Recommendation Systems.ipynb",
      "provenance": [],
      "authorship_tag": "ABX9TyMfz5luLMoVduVK/y6bnqdt",
      "include_colab_link": true
    },
    "kernelspec": {
      "name": "python3",
      "display_name": "Python 3"
    },
    "language_info": {
      "name": "python"
    }
  },
  "cells": [
    {
      "cell_type": "markdown",
      "metadata": {
        "id": "view-in-github",
        "colab_type": "text"
      },
      "source": [
        "<a href=\"https://colab.research.google.com/github/MaximilianoRamirezN/lecturasIIC3633-2021/blob/main/papers/Semana%204/Content_Based_Recommendation_Systems.ipynb\" target=\"_parent\"><img src=\"https://colab.research.google.com/assets/colab-badge.svg\" alt=\"Open In Colab\"/></a>"
      ]
    },
    {
      "cell_type": "markdown",
      "metadata": {
        "id": "a5pt2U_Um3dH"
      },
      "source": [
        "# Content-Based Recommendation Systems\n",
        "\n",
        "Es un trabajo que enfoca la discución en los sistemas recomendadores basados en contenido, es decir, las recomendaciones de los items se realizan en base a sus características hacia usuarios que consideran esas características interesantes en un producto. Naturalmente, este último punto requiere conocer acerca de los gustos del usuario por lo que es necesario crear perfiles de usuario que indiquen tendencias acerca de sus intereses.\n",
        "\n",
        "Uno de los temas interesantes acerca del perfilamiento de clientes que se aborda en el trabajo, trata sobre el análisis de texto, tanto estructurado como el no estructurado, donde este último presenta grandes desafíos en el área, ya que la gran posibilidad de distintos comentarios o reseñas dificulta el análisis necesario para poder crear un perfil para el cliente. Se plantean soluciones a este problema, como por ejemplo pasar de un texto no estructurado, a uno estructurado, sin embargo la limitancia de esta propuesta es la posible pérdida de información en la transición, en donde quizás no es posible captar del todo bien lo que el usuario intentó expresar en su reseña, o posible pérdida de contexto al considerar las palabras \"claves\" de manera aislada. Por lo que se proponen distintas técnicas para lidiar con los datos no estructurados, algunas típicas en el área de recuperación de información, y otras orientadas al área de machine learning, dónde es posible encontrar modelos como **_Naive Bayes_, SVM, Decision Trees**, entre otros.\n",
        "\n",
        "Se plantea en el paper que es posible tratar el problema de recomendación, como uno de clasificación considerando los ratings entregados por los usuarios a distintos ítems como atributos, y a través de estos modelos intentar clasificar al usuario. Sin embargo, la dificultad que veo en este enfoque es la poca capacidad que tendrá el sistema para entrenarse rápidamente ante nuevos items, ya que al integrar un nuevo ítem al conjunto de datos, será necesario agregar una nueva columna, y esto se traduce en tener que reentrenar el modelo por la presencia de este nuevo atributo, perdiendo la capacidad que podría tener algún sistema de ser reentrenado en linea rápidamente, ya que modelos como **_SVM_** computacionalmente son bastante costosos en términos de grandes cantidades de datos."
      ]
    }
  ]
}