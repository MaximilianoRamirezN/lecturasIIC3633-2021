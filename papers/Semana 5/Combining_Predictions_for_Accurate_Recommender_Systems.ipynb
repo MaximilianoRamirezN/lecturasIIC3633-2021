{
  "nbformat": 4,
  "nbformat_minor": 0,
  "metadata": {
    "colab": {
      "name": "Combining Predictions for Accurate Recommender Systems.ipynb",
      "provenance": [],
      "authorship_tag": "ABX9TyMLLGsCooDRgLVUJUzMdBdK",
      "include_colab_link": true
    },
    "kernelspec": {
      "name": "python3",
      "display_name": "Python 3"
    },
    "language_info": {
      "name": "python"
    }
  },
  "cells": [
    {
      "cell_type": "markdown",
      "metadata": {
        "id": "view-in-github",
        "colab_type": "text"
      },
      "source": [
        "<a href=\"https://colab.research.google.com/github/MaximilianoRamirezN/lecturasIIC3633-2021/blob/main/papers/Semana%205/Combining_Predictions_for_Accurate_Recommender_Systems.ipynb\" target=\"_parent\"><img src=\"https://colab.research.google.com/assets/colab-badge.svg\" alt=\"Open In Colab\"/></a>"
      ]
    },
    {
      "cell_type": "markdown",
      "metadata": {
        "id": "FqmT4Fonqud6"
      },
      "source": [
        "# Combining Predictions for Accurate Recommender Systems\n",
        "\n",
        "Trabajo en el cual los autores postulan que los métodos de **_Blending_** o **_Ensambles_** de modelos mejoran la precisión en las recomendaciones de los sistemas. Para efectos experimentales, se presentan 18 predictores y se combinan una serie de modelos con sus mejores hiperparámetros, con el fin de generar un modelo único que capte los mejores atributos de cada uno de sus componentes (Embedding de modelos). Los autores muestran que ningún modelo por si sólo es capaz de superar el **_RMSE_** de la mezcla de todos los modelos.\n",
        "\n",
        "Para efectos teóricos y para la comunidad de sistemas recomendación aparentemente es un avance significativo en el área logrando una mejora en el dataset de **_Netflix Prize_** de aproximadamente $0.0021$ en el RMSE. Sin embargo, considero que para efectos prácticos en el tiempo de computo y memoria requerida por ejemplo en el método de **K-Nearest Neighbors Blending - KNN**, no compensan en la práctica una mejora significativa para efectos del usuario. Por lo que el utilizar una red neuronal única como la utilizada en el trabajo, puede ofrecer ventajas como predicciones en tiempos muy rápidos sin mayor gasto de memoria."
      ]
    }
  ]
}