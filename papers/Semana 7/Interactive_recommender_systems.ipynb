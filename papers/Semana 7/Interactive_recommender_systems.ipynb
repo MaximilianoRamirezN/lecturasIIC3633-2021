{
  "nbformat": 4,
  "nbformat_minor": 0,
  "metadata": {
    "colab": {
      "name": "Interactive recommender systems.ipynb",
      "provenance": [],
      "authorship_tag": "ABX9TyOh12EKJhhw8RbV0ByFTYGe",
      "include_colab_link": true
    },
    "kernelspec": {
      "name": "python3",
      "display_name": "Python 3"
    },
    "language_info": {
      "name": "python"
    }
  },
  "cells": [
    {
      "cell_type": "markdown",
      "metadata": {
        "id": "view-in-github",
        "colab_type": "text"
      },
      "source": [
        "<a href=\"https://colab.research.google.com/github/MaximilianoRamirezN/lecturasIIC3633-2021/blob/main/papers/Semana%207/Interactive_recommender_systems.ipynb\" target=\"_parent\"><img src=\"https://colab.research.google.com/assets/colab-badge.svg\" alt=\"Open In Colab\"/></a>"
      ]
    },
    {
      "cell_type": "markdown",
      "metadata": {
        "id": "YnAjN-unDuie"
      },
      "source": [
        "# Interactive recommender systems: A survey of the state of the art and future research challenges and opportunities\n",
        "\n",
        "Trabajo en el cual se aborda la perspectiva de los sitemas de recomendación con un enfoque a la visualización de resultados. Se estudia el hecho de que sistemas de apoyo visual ayuden a respaldar y de alguna manera \"explicar\" el porqué de las recomendaciones de un sistema, explorando la posibilidad de que el dar transparencia y controlabilidad al usuario sobre el sistema de recomendación es posible mejorar la precisión de este último. \n",
        "\n",
        "Dentro de las diferentes visualizaciones interactivas sobre las recomendaciones, se tienen ejemplos como diagramas de ben, representaciones de grafos, agrupaciones por comunidades y visualizaciones que miden emociones con emoticones, entre otras. Cada una puede resultar útil bajo ciertas circunstancias y perfiles de usuarios, dónde podemos encontrar usuarios con mayor conocimiento técnico que podrían sacar más provecho a cierto tipo de visualizaciones.\n",
        "\n",
        "En cuanto a la controlabilidad que el sistema de visualización puede entregarle al usuario para que este manipule cuanto peso le atribuye a cada sistema recomendador para así variar las recomendaciones que recibe, se expone en el trabajo que diferentes autores concluyen que esta acción mejora la precisión del sistema. Sin embargo, no se profundiza mucho en el tema del posible sesgo por parte del usuario, es decir, eventualmente el hecho de que el usuario controle las recomendaciones, podría sesgar su opinión a que al manipular los pesos de recomendación, este puede sobrevalorar las recomendaciones, sólo por el hecho de sentir que tiene cierto control sobre el sistema."
      ]
    }
  ]
}