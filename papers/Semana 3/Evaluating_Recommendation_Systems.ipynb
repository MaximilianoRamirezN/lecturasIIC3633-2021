{
  "nbformat": 4,
  "nbformat_minor": 0,
  "metadata": {
    "colab": {
      "name": "Evaluating Recommendation Systems.ipynb",
      "provenance": [],
      "authorship_tag": "ABX9TyPbJqhz9FCVFWpYfcUpatiI",
      "include_colab_link": true
    },
    "kernelspec": {
      "name": "python3",
      "display_name": "Python 3"
    },
    "language_info": {
      "name": "python"
    }
  },
  "cells": [
    {
      "cell_type": "markdown",
      "metadata": {
        "id": "view-in-github",
        "colab_type": "text"
      },
      "source": [
        "<a href=\"https://colab.research.google.com/github/MaximilianoRamirezN/lecturasIIC3633-2021/blob/main/papers/Semana%203/Evaluating_Recommendation_Systems.ipynb\" target=\"_parent\"><img src=\"https://colab.research.google.com/assets/colab-badge.svg\" alt=\"Open In Colab\"/></a>"
      ]
    },
    {
      "cell_type": "markdown",
      "metadata": {
        "id": "Wkjw3VYUCRro"
      },
      "source": [
        "#Evaluating Recommendation Systems\n",
        "\n",
        "Trabajo en el que se discuten diferentes las diferentes formas en las que se puede evaluar un sistema recomendador para de esta forma escoger el mejor algoritmo recomendador entre un conjunto de algoritmos candidatos. Además se mencionan las diferentes métricas en las que el diseñador del algoritmo recomendador puede estar interesado según el contexto de la aplicación que desarrolla. Se discuten además las diferentes limitaciones y adversidades a las que se enfrenta un sistema recomendador en los experimentos de estudio de usuarios tanto **_offline_** como experimentos **_online_**.\n",
        "\n",
        "Dentro de los temas hablados en el trabajo, es interesante el cómo se producen trade-off entre las diferentes métricas de evaluación de sistemas recomendadores, por ejemplo, intentar mejorar el **_covarage_** del modelo podría significar una disminución en su **_accuracy_**. Por lo que la pregunta natural es, ¿Cómo podriamos identificar el punto óptimo en el que nuestro sistema cuente con el covarage necesario para tener un buen desempeño, sin sacrificar drásticamente su accuracy?. Una propuesta interesante a esta interrogante, sería intentar definir nuevas métricas que ponderen según el interés del diseñador las métricas en las que se intenta encontrar el punto óptimo, y maximizar esta nueva métrica según alguna función de utilidad para el sistema recomendador. El mismo enfoque podría ser posible definiendo funciones de pérdida que relacionen las pérdidas de distintas métricas de interés y se intente aprender algún parámetro que indique cuánto interés le damos a una métrica más que a otra, planteandolo como un problema de minimización."
      ]
    }
  ]
}