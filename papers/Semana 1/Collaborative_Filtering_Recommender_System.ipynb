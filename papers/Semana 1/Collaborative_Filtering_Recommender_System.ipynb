{
  "nbformat": 4,
  "nbformat_minor": 0,
  "metadata": {
    "colab": {
      "name": "Collaborative Filtering Recommender System.ipynb",
      "provenance": []
    },
    "kernelspec": {
      "name": "python3",
      "display_name": "Python 3"
    },
    "language_info": {
      "name": "python"
    }
  },
  "cells": [
    {
      "cell_type": "markdown",
      "metadata": {
        "id": "sy7nWw-2bqkg"
      },
      "source": [
        "#**Collaborative Filtering Recommender System**\n",
        "\n",
        "Trabajo que comienza dando una introducción histórica sobre los algoritmos recomendadores. Definiendo un filtro colaborativo como el proceso en el que los artículos son evaluados a partir de opiniones de usuarios similares a uno que deseamos recomendar dicho artículo. En el trabajo se exponen variantes de este tipo de sistema recomendador, ventajas y desventajas, se muestra cómo se evalúan estos sistemas en base a diferentes métricas de interés y se plantean otras estrategias de filtrado como lo son los filtros basados en contenido, dónde la recomendación se realiza en base a productos similares y no a la opinión de otros usuarios sobre un producto. \n",
        "\n",
        "Dentro de los temas abordados en esta investigación, destacan principalmente los métodos de reducción de dimensionalidad, pues la principal herramienta para identificar usuarios con gustos similares es **KNN**, algoritmo que dada una métrica encuentra los usuarios más cercanos en gustos. Sin embargo, el costo computacional de este algoritmo explota en el número de características del usuario, por lo que es necesario utilizar métodos que extraigan las características más relevantes del individuo. Dentro de estos métodos podemos encontrar **principal component analysis (PCA)**, el cuál selecciona las características mas relevantes de un usuario encontrando una **transformación lineal** que proyecta los atributos en un subespacio de menor dimensionalidad.\n",
        "\n",
        "En el trabajo de [Elad Plaut](https://arxiv.org/abs/1804.10253/ \"Title\"), se da cuenta de que PCA es más bien un caso particular de una arquitectura encoder-decoder lineal para extraer características, de lo que podemos inferir que una red neuronal encoder-decoder pueden aprender relaciones más complejas que una transformación lineal para reducir dimensionalidad. \n",
        "\n",
        "Por otro lado, se menciona que la principal dificultad para los sistemas de filtro colaborativo es el llamado **\"Cold-Start\"**, dónde el sistema presenta problemas para hacer recomendaciones por la falta de ratings en los artículos. Por lo que la interrogante natural es, ¿Qué tan perjudicial es para el sistema de filtro colaborativo el uso de data artificial?, pues si siempre se trabaja bajo el supuesto de que para usuarios cercanos en gustos hay que recomendar artículos similares. Si se generan usuarios ficticios similares a sus vecinos, con ratings similares para cierto artículo, ¿Se introduce mucho sesgo al sistema cuando este se entrena?.\n",
        "\n",
        "\n"
      ]
    }
  ]
}