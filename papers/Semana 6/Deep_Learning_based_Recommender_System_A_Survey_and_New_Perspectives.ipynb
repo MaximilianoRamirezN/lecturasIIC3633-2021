{
  "nbformat": 4,
  "nbformat_minor": 0,
  "metadata": {
    "colab": {
      "name": "Deep Learning based Recommender System: A Survey and New Perspectives.ipynb",
      "provenance": [],
      "authorship_tag": "ABX9TyNBB3qLGU/e2uvhKumhefNI",
      "include_colab_link": true
    },
    "kernelspec": {
      "name": "python3",
      "display_name": "Python 3"
    },
    "language_info": {
      "name": "python"
    }
  },
  "cells": [
    {
      "cell_type": "markdown",
      "metadata": {
        "id": "view-in-github",
        "colab_type": "text"
      },
      "source": [
        "<a href=\"https://colab.research.google.com/github/MaximilianoRamirezN/lecturasIIC3633-2021/blob/main/papers/Semana%206/Deep_Learning_based_Recommender_System_A_Survey_and_New_Perspectives.ipynb\" target=\"_parent\"><img src=\"https://colab.research.google.com/assets/colab-badge.svg\" alt=\"Open In Colab\"/></a>"
      ]
    },
    {
      "cell_type": "markdown",
      "metadata": {
        "id": "2n0RTCP-6tI9"
      },
      "source": [
        "# Deep Learning based Recommender System: A Survey and New Perspectives\n",
        "\n",
        "Trabajo en el cual se exploran los sistemas de recomendación basados en redes neuronales, donde se presentan redes simples como perceptron multicapa y opciones más elavoradas como CNN, RNN, y los autoencoder y todas sus variantes. Exponiendo que han mostrado mejoras en las recomendaciones por su capacidad de poder lidiar con datos como texto, imagenes y videos. Además de poder aprender representaciones de los datos de forma autonoma sin necesidad de pasar por el procesos de ingeniería de atributos. Por otro lado se exponen distintas variantes del uso de encoder decoder, tipo de redes que intentan reconstruir el input en su última capa, esto es beneficioso para datos ruidosos y el problema del cold start.\n",
        "\n",
        "Un punto interesante es donde se menciona que cierto tipo de redes debe pasar por un proceso de optimización especial para evitar caer en un minimo local. Por lo que sería una opción interesante considerar redes con mayor profundidad, ya que a mayor profundidad se ha demostrado que todos los mínimos locales son equivalentes entre si."
      ]
    }
  ]
}